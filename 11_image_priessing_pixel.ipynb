{
 "cells": [
  {
   "cell_type": "code",
   "execution_count": 1,
   "id": "28db7d23-60a6-4452-af9f-3101c5870654",
   "metadata": {},
   "outputs": [],
   "source": [
    "import numpy as np\n",
    "import cv2"
   ]
  },
  {
   "cell_type": "code",
   "execution_count": 2,
   "id": "49409b86-1f2d-4c9b-85c7-925d20379136",
   "metadata": {},
   "outputs": [],
   "source": [
    "img = cv2.imread('./m1/bird.jpg')"
   ]
  },
  {
   "cell_type": "code",
   "execution_count": 4,
   "id": "382ef83a-c8f6-49a8-a096-d050d36ba1e8",
   "metadata": {},
   "outputs": [],
   "source": [
    "def display(winname,image):\n",
    "    cv2.imshow(winname,img)\n",
    "    cv2.waitKey(0)\n",
    "    cv2.destroyAllWindows()\n",
    "    "
   ]
  },
  {
   "cell_type": "code",
   "execution_count": 5,
   "id": "80cf0c37-2df7-412c-8fc4-7fd42c91574c",
   "metadata": {},
   "outputs": [],
   "source": [
    "display('bird',img)"
   ]
  },
  {
   "cell_type": "code",
   "execution_count": 7,
   "id": "d089b147-322c-48fe-8213-a3bc57e37c3d",
   "metadata": {},
   "outputs": [
    {
     "data": {
      "text/plain": [
       "array([[  1.,   0., 100.],\n",
       "       [  0.,   1., 150.]], dtype=float32)"
      ]
     },
     "execution_count": 7,
     "metadata": {},
     "output_type": "execute_result"
    }
   ],
   "source": [
    "#### image translation\n",
    "tx=100\n",
    "ty= 150\n",
    "M= np.float32([[1,0,tx],[0,1,ty]])\n",
    "M"
   ]
  },
  {
   "cell_type": "code",
   "execution_count": 43,
   "id": "54d6a55b-3810-4f58-854b-a46eb61702b8",
   "metadata": {},
   "outputs": [
    {
     "data": {
      "text/plain": [
       "array([[[  0,   0,   0],\n",
       "        [  0,   0,   0],\n",
       "        [  0,   0,   0],\n",
       "        ...,\n",
       "        [  0,   0,   0],\n",
       "        [  0,   0,   0],\n",
       "        [  0,   0,   0]],\n",
       "\n",
       "       [[  0,   0,   0],\n",
       "        [  0,   0,   0],\n",
       "        [  0,   0,   0],\n",
       "        ...,\n",
       "        [  0,   0,   0],\n",
       "        [  0,   0,   0],\n",
       "        [  0,   0,   0]],\n",
       "\n",
       "       [[  0,   0,   0],\n",
       "        [  0,   0,   0],\n",
       "        [  0,   0,   0],\n",
       "        ...,\n",
       "        [  0,   0,   0],\n",
       "        [  0,   0,   0],\n",
       "        [  0,   0,   0]],\n",
       "\n",
       "       ...,\n",
       "\n",
       "       [[  0,   0,   0],\n",
       "        [  0,   0,   0],\n",
       "        [  0,   0,   0],\n",
       "        ...,\n",
       "        [173, 124,  22],\n",
       "        [250, 214, 106],\n",
       "        [156, 130,  40]],\n",
       "\n",
       "       [[  0,   0,   0],\n",
       "        [  0,   0,   0],\n",
       "        [  0,   0,   0],\n",
       "        ...,\n",
       "        [157, 108,   6],\n",
       "        [255, 223, 106],\n",
       "        [200, 175,  77]],\n",
       "\n",
       "       [[  0,   0,   0],\n",
       "        [  0,   0,   0],\n",
       "        [  0,   0,   0],\n",
       "        ...,\n",
       "        [158, 111,  13],\n",
       "        [248, 206,  99],\n",
       "        [236, 205, 114]]], dtype=uint8)"
      ]
     },
     "execution_count": 43,
     "metadata": {},
     "output_type": "execute_result"
    }
   ],
   "source": [
    "cv2.warpAffine(img,M,(img.shape[1],img.shape[0]))"
   ]
  },
  {
   "cell_type": "code",
   "execution_count": 8,
   "id": "a2b8f763-efb7-4d61-a02a-cbf12903c7c4",
   "metadata": {},
   "outputs": [],
   "source": [
    "shifted_image = cv2.warpAffine(img,M,(img.shape[1],img.shape[0]))\n",
    "cv2.imshow('shifted_image',shifted_image)\n",
    "cv2.imshow('Original_image', img)\n",
    "cv2.waitKey()\n",
    "cv2.destroyAllWindows()"
   ]
  },
  {
   "cell_type": "code",
   "execution_count": 9,
   "id": "9cc0ba98-4ca4-410d-aa16-b89428b637dc",
   "metadata": {},
   "outputs": [],
   "source": [
    "def translation(image,tx,ty):\n",
    "    \n",
    "    M= np.float32([[1,0,tx],\n",
    "             [0,1,ty]])\n",
    "    shifted_img = cv2.warpAffine(image,M,(image.shape[1],image.shape[0]))\n",
    "    cv2.imshow('shifted',shifted_img)\n",
    "    cv2.waitKey()\n",
    "    cv2.destroyAllWindows()\n",
    "    "
   ]
  },
  {
   "cell_type": "code",
   "execution_count": 14,
   "id": "2323179f-26ce-4303-ba53-0c779363ea31",
   "metadata": {},
   "outputs": [],
   "source": [
    "translation(img,0,0)"
   ]
  },
  {
   "cell_type": "code",
   "execution_count": 15,
   "id": "e0b74e0e-4996-4294-a504-ff25cc44aa55",
   "metadata": {},
   "outputs": [],
   "source": [
    "# rotating concept"
   ]
  },
  {
   "cell_type": "code",
   "execution_count": 16,
   "id": "fd4fcc4e-cf35-4a92-9ef1-2b73e9170a80",
   "metadata": {},
   "outputs": [],
   "source": [
    "img= cv2.imread('./m1/bird.jpg')"
   ]
  },
  {
   "cell_type": "code",
   "execution_count": 17,
   "id": "23d8dd87-fe02-4932-b7e7-57c0d8f8bc65",
   "metadata": {},
   "outputs": [],
   "source": [
    " display('bird',img)"
   ]
  },
  {
   "cell_type": "code",
   "execution_count": 21,
   "id": "3edaf8b3-5619-43f6-8944-7e0333d1519d",
   "metadata": {},
   "outputs": [],
   "source": [
    "center  = (img.shape[1]//2,img.shape[0]//2)"
   ]
  },
  {
   "cell_type": "code",
   "execution_count": 23,
   "id": "a743c321-07c1-4b75-9894-acab46fc944e",
   "metadata": {},
   "outputs": [],
   "source": [
    "m = cv2.getRotationMatrix2D(center,45,1)"
   ]
  },
  {
   "cell_type": "raw",
   "id": "7c8c0edb-6d21-4e54-be11-cd1399854e1e",
   "metadata": {},
   "source": [
    "m"
   ]
  },
  {
   "cell_type": "code",
   "execution_count": 30,
   "id": "9b785c7e-65b7-4f78-88d5-379015d1ef42",
   "metadata": {},
   "outputs": [],
   "source": [
    "rotate_45 =  cv2.warpAffine(img,m,(img.shape[1],img.shape[0]))"
   ]
  },
  {
   "cell_type": "code",
   "execution_count": 32,
   "id": "eb164884-30ef-4232-ab40-acd99f8611cc",
   "metadata": {},
   "outputs": [],
   "source": [
    "display('rotate_45',rotate_45)# this may not work with latest library"
   ]
  },
  {
   "cell_type": "code",
   "execution_count": 33,
   "id": "d2bade1d-70ef-4bfa-b8a8-1a642b0c2f02",
   "metadata": {},
   "outputs": [],
   "source": [
    "def rotate(image,angle,scale):\n",
    "    center= (image.shape[1]//2,image.shape[0]//2)\n",
    "    M= cv2.getRotationMatrix2D(center,angle,scale)\n",
    "    rotate_img = cv2.warpAffine(image,M,(image.shape[1],image.shape[0]))\n",
    "    cv2.imshow('rotated image',rotate_img)\n",
    "    cv2.waitKey(0)\n",
    "    cv2.destroyAllWindows()"
   ]
  },
  {
   "cell_type": "code",
   "execution_count": 35,
   "id": "4b108a66-f708-415d-8ee8-43a479049208",
   "metadata": {},
   "outputs": [],
   "source": [
    "rotate(img,-30,1.0)"
   ]
  },
  {
   "cell_type": "code",
   "execution_count": 36,
   "id": "43f4d5fb-c5f9-4e54-953e-1658ff309424",
   "metadata": {},
   "outputs": [],
   "source": [
    "# resize experiment"
   ]
  },
  {
   "cell_type": "code",
   "execution_count": 37,
   "id": "8b80ad2f-e7da-4ed1-9bfe-8d085cb7c9b0",
   "metadata": {},
   "outputs": [
    {
     "data": {
      "text/plain": [
       "(427, 640, 3)"
      ]
     },
     "execution_count": 37,
     "metadata": {},
     "output_type": "execute_result"
    }
   ],
   "source": [
    "img.shape"
   ]
  },
  {
   "cell_type": "code",
   "execution_count": 38,
   "id": "8308fc42-3448-48c5-b40f-fb273ff0bc22",
   "metadata": {},
   "outputs": [],
   "source": [
    "img_resize = cv2.resize(img,(300,300),interpolation=cv2.INTER_AREA)\n"
   ]
  },
  {
   "cell_type": "code",
   "execution_count": 40,
   "id": "01bea1db-4201-4e58-92dc-8d7d4110e99c",
   "metadata": {},
   "outputs": [],
   "source": [
    "display('resize',img_resize)"
   ]
  },
  {
   "cell_type": "code",
   "execution_count": 43,
   "id": "57330ef5-3e86-4151-8750-87baf555af71",
   "metadata": {},
   "outputs": [],
   "source": [
    "cv2.imshow('original',img)\n",
    "cv2.imshow('resize',img_resize)\n",
    "cv2.waitKey(0)\n",
    "cv2.destroyAllWindows()"
   ]
  },
  {
   "cell_type": "code",
   "execution_count": 42,
   "id": "0af138ff-f19d-4a5a-8259-470fd2f1c968",
   "metadata": {},
   "outputs": [],
   "source": [
    "img_resize = cv2.resize(img,(300,300),interpolation=cv2.INTER_AREA)"
   ]
  },
  {
   "cell_type": "code",
   "execution_count": 44,
   "id": "6a3d4e80-3f2b-47a9-9294-54f1f8e8c894",
   "metadata": {},
   "outputs": [],
   "source": [
    "cv2.imshow('original',img)\n",
    "cv2.imshow('resize',img_resize)\n",
    "cv2.waitKey(0)\n",
    "cv2.destroyAllWindows()"
   ]
  },
  {
   "cell_type": "code",
   "execution_count": 45,
   "id": "69c864fa-09d1-4660-8153-8b4e971bbaad",
   "metadata": {},
   "outputs": [],
   "source": [
    "#flipping"
   ]
  },
  {
   "cell_type": "code",
   "execution_count": 46,
   "id": "8b56a8a5-e77c-4c33-a925-7817733b63a3",
   "metadata": {},
   "outputs": [],
   "source": [
    "flip_img = cv2.flip(img,0)"
   ]
  },
  {
   "cell_type": "code",
   "execution_count": 47,
   "id": "fdef405c-e6b5-45f9-85a8-914749e67048",
   "metadata": {},
   "outputs": [],
   "source": [
    "cv2.imshow('original',img)\n",
    "cv2.imshow('resize',flip_img)\n",
    "cv2.waitKey(0)\n",
    "cv2.destroyAllWindows()"
   ]
  },
  {
   "cell_type": "code",
   "execution_count": 48,
   "id": "51a24047-2dae-4da8-99df-17ae3e036afa",
   "metadata": {},
   "outputs": [],
   "source": [
    "#cropping image"
   ]
  },
  {
   "cell_type": "code",
   "execution_count": 49,
   "id": "54b14c5d-7d2f-411b-af1a-1a3ba4c9ee7d",
   "metadata": {},
   "outputs": [],
   "source": [
    "crop = img[0:100,0:100]\n",
    "display('crop',crop)"
   ]
  },
  {
   "cell_type": "code",
   "execution_count": 50,
   "id": "79fcc9e3-2e28-4844-92fd-93311a0fee63",
   "metadata": {},
   "outputs": [],
   "source": [
    "#cv2.imshow('original',img)\n",
    "cv2.imshow('resize',crop)\n",
    "cv2.waitKey(0)\n",
    "cv2.destroyAllWindows()"
   ]
  },
  {
   "cell_type": "code",
   "execution_count": null,
   "id": "5afb7a4b-c8f4-4aa9-a613-c047d74284b1",
   "metadata": {},
   "outputs": [],
   "source": []
  },
  {
   "cell_type": "code",
   "execution_count": null,
   "id": "259005c3-5d1f-4257-96ac-220cecd4ec77",
   "metadata": {},
   "outputs": [],
   "source": []
  },
  {
   "cell_type": "code",
   "execution_count": null,
   "id": "a3632c99-2e01-40f9-b868-64b0de1220a3",
   "metadata": {},
   "outputs": [],
   "source": []
  },
  {
   "cell_type": "code",
   "execution_count": null,
   "id": "13e6a259-8107-42e8-8b73-5b83160374c9",
   "metadata": {},
   "outputs": [],
   "source": []
  },
  {
   "cell_type": "code",
   "execution_count": null,
   "id": "7e9adf1e-170c-4aa9-8a52-f539dfea5e78",
   "metadata": {},
   "outputs": [],
   "source": []
  },
  {
   "cell_type": "code",
   "execution_count": null,
   "id": "9814a1aa-904d-4f35-9450-6dcfd7db7f84",
   "metadata": {},
   "outputs": [],
   "source": []
  },
  {
   "cell_type": "code",
   "execution_count": null,
   "id": "f4a836f2-2c60-45e1-84d6-d3830dc179c0",
   "metadata": {},
   "outputs": [],
   "source": []
  },
  {
   "cell_type": "code",
   "execution_count": null,
   "id": "dadef644-3a0b-4e66-90ac-b627c073a04e",
   "metadata": {},
   "outputs": [],
   "source": []
  },
  {
   "cell_type": "code",
   "execution_count": null,
   "id": "7a61a4d8-c514-4646-a99b-3ecb49bfdd82",
   "metadata": {},
   "outputs": [],
   "source": []
  },
  {
   "cell_type": "code",
   "execution_count": null,
   "id": "7d361940-d8cd-4a38-bbdb-dad782825391",
   "metadata": {},
   "outputs": [],
   "source": []
  },
  {
   "cell_type": "code",
   "execution_count": null,
   "id": "a98aae25-f64a-4c24-b578-2a973a7279d9",
   "metadata": {},
   "outputs": [],
   "source": []
  },
  {
   "cell_type": "code",
   "execution_count": null,
   "id": "f5707977-39cd-4766-9a89-a83966e5613b",
   "metadata": {},
   "outputs": [],
   "source": []
  },
  {
   "cell_type": "code",
   "execution_count": null,
   "id": "8b1ada22-dd61-4107-96e1-a4c6ebc0827b",
   "metadata": {},
   "outputs": [],
   "source": []
  },
  {
   "cell_type": "code",
   "execution_count": 10,
   "id": "ed308cdd-01f1-4c1b-9544-86c4525f8056",
   "metadata": {},
   "outputs": [
    {
     "data": {
      "text/plain": [
       "'shifted_image'"
      ]
     },
     "metadata": {},
     "output_type": "display_data"
    },
    {
     "data": {
      "text/plain": [
       "array([[[ 70, 181, 219],\n",
       "        [ 70, 181, 219],\n",
       "        [ 70, 181, 219],\n",
       "        ...,\n",
       "        [  0,   0,   0],\n",
       "        [  0,   0,   0],\n",
       "        [  0,   0,   0]],\n",
       "\n",
       "       [[ 69, 180, 218],\n",
       "        [ 70, 181, 219],\n",
       "        [ 70, 181, 219],\n",
       "        ...,\n",
       "        [  0,   0,   0],\n",
       "        [  0,   0,   0],\n",
       "        [  0,   0,   0]],\n",
       "\n",
       "       [[ 67, 181, 218],\n",
       "        [ 67, 181, 218],\n",
       "        [ 67, 181, 218],\n",
       "        ...,\n",
       "        [  0,   0,   0],\n",
       "        [  0,   0,   0],\n",
       "        [  0,   0,   0]],\n",
       "\n",
       "       ...,\n",
       "\n",
       "       [[  0,   0,   0],\n",
       "        [  0,   0,   0],\n",
       "        [  0,   0,   0],\n",
       "        ...,\n",
       "        [  0,   0,   0],\n",
       "        [  0,   0,   0],\n",
       "        [  0,   0,   0]],\n",
       "\n",
       "       [[  0,   0,   0],\n",
       "        [  0,   0,   0],\n",
       "        [  0,   0,   0],\n",
       "        ...,\n",
       "        [  0,   0,   0],\n",
       "        [  0,   0,   0],\n",
       "        [  0,   0,   0]],\n",
       "\n",
       "       [[  0,   0,   0],\n",
       "        [  0,   0,   0],\n",
       "        [  0,   0,   0],\n",
       "        ...,\n",
       "        [  0,   0,   0],\n",
       "        [  0,   0,   0],\n",
       "        [  0,   0,   0]]], dtype=uint8)"
      ]
     },
     "metadata": {},
     "output_type": "display_data"
    }
   ],
   "source": [
    "translation(img,-100,-150)"
   ]
  },
  {
   "cell_type": "code",
   "execution_count": null,
   "id": "35b81e95-9143-489a-a6d5-fbad40fc0db4",
   "metadata": {},
   "outputs": [],
   "source": []
  },
  {
   "cell_type": "code",
   "execution_count": null,
   "id": "5eb263e7-eb8e-41ef-83d6-185f02539fc3",
   "metadata": {},
   "outputs": [],
   "source": []
  },
  {
   "cell_type": "code",
   "execution_count": null,
   "id": "9753fb88-bcd1-4806-bbc7-dce614598f71",
   "metadata": {},
   "outputs": [],
   "source": []
  },
  {
   "cell_type": "code",
   "execution_count": null,
   "id": "1257ad4a-d456-46e7-8ece-1e6d0d450b01",
   "metadata": {},
   "outputs": [],
   "source": []
  },
  {
   "cell_type": "code",
   "execution_count": null,
   "id": "15ea46cb-4b85-4fe9-afd6-73ce03b8f992",
   "metadata": {},
   "outputs": [],
   "source": []
  },
  {
   "cell_type": "code",
   "execution_count": null,
   "id": "0a8e0f80-7699-4361-ac92-e6b2a50f3e6d",
   "metadata": {},
   "outputs": [],
   "source": [
    " "
   ]
  },
  {
   "cell_type": "code",
   "execution_count": null,
   "id": "22082358-6bfa-453a-a510-96b6087049ba",
   "metadata": {},
   "outputs": [],
   "source": []
  },
  {
   "cell_type": "code",
   "execution_count": null,
   "id": "295900bc-f92d-43cc-a858-51fc26eec8c4",
   "metadata": {},
   "outputs": [],
   "source": []
  },
  {
   "cell_type": "code",
   "execution_count": null,
   "id": "e6f5ef4d-e211-4a34-90ba-71165b01a760",
   "metadata": {},
   "outputs": [],
   "source": []
  },
  {
   "cell_type": "code",
   "execution_count": null,
   "id": "e62590d4-9454-4a1e-8970-eaeaa0072175",
   "metadata": {},
   "outputs": [],
   "source": []
  },
  {
   "cell_type": "code",
   "execution_count": null,
   "id": "54a1cb6b-481b-4eac-9a09-a2a458a19d59",
   "metadata": {},
   "outputs": [],
   "source": []
  },
  {
   "cell_type": "code",
   "execution_count": null,
   "id": "e8440d54-a13c-4544-8c27-764432d92de2",
   "metadata": {},
   "outputs": [],
   "source": []
  },
  {
   "cell_type": "code",
   "execution_count": null,
   "id": "6a97977a-be6c-4753-a2e5-92eb7ac121ce",
   "metadata": {},
   "outputs": [],
   "source": []
  },
  {
   "cell_type": "code",
   "execution_count": null,
   "id": "c97a75ae-d602-426f-8251-b3f5aee1571b",
   "metadata": {},
   "outputs": [],
   "source": []
  },
  {
   "cell_type": "code",
   "execution_count": null,
   "id": "35fffd99-ad77-46a1-b48f-9a856d2e73b9",
   "metadata": {},
   "outputs": [],
   "source": []
  }
 ],
 "metadata": {
  "kernelspec": {
   "display_name": "Python 3 (ipykernel)",
   "language": "python",
   "name": "python3"
  },
  "language_info": {
   "codemirror_mode": {
    "name": "ipython",
    "version": 3
   },
   "file_extension": ".py",
   "mimetype": "text/x-python",
   "name": "python",
   "nbconvert_exporter": "python",
   "pygments_lexer": "ipython3",
   "version": "3.12.0"
  }
 },
 "nbformat": 4,
 "nbformat_minor": 5
}
