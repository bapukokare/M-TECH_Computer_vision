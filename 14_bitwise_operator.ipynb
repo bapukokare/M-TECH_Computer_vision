{
 "cells": [
  {
   "cell_type": "code",
   "execution_count": 2,
   "id": "ef2e2776-5745-4bc3-9548-af15013a6a90",
   "metadata": {},
   "outputs": [],
   "source": [
    "import numpy as np\n",
    "import cv2"
   ]
  },
  {
   "cell_type": "code",
   "execution_count": 7,
   "id": "5cc1fd50-ae8e-4baa-894e-e30a03861877",
   "metadata": {},
   "outputs": [],
   "source": [
    "rectangle= np.zeros((300,300),dtype='uint8')\n",
    "cv2.rectangle(rectangle,(25,25),(275,275),255,-1)\n",
    "\n",
    "cv2.imshow('rectangle',rectangle)\n",
    "cv2.waitKey(0)\n",
    "cv2.destroyAllWindows()"
   ]
  },
  {
   "cell_type": "code",
   "execution_count": 11,
   "id": "81fe460b-0552-4c81-a5b7-bea7d7afa1ab",
   "metadata": {},
   "outputs": [],
   "source": [
    "circle = np.zeros((300,300),dtype='uint8')\n",
    "cv2.circle(circle,(150,150),150,255,-1)\n",
    "\n",
    "cv2.imshow('circle',circle)\n",
    "cv2.waitKey(0)\n",
    "cv2.destroyAllWindows()"
   ]
  },
  {
   "cell_type": "code",
   "execution_count": 9,
   "id": "7d08279f-6da4-452f-96b9-4a9acf18f09a",
   "metadata": {},
   "outputs": [],
   "source": [
    "#AND"
   ]
  },
  {
   "cell_type": "code",
   "execution_count": 14,
   "id": "3fc288ba-6877-49e2-a76f-f57aa0f631f2",
   "metadata": {},
   "outputs": [],
   "source": [
    "img_and = cv2.bitwise_and(rectangle,circle)\n",
    "\n",
    "cv2.imshow('rectangle',rectangle)\n",
    "cv2.imshow('circle',circle) \n",
    "cv2.imshow('and',img_and)\n",
    "cv2.waitKey(0)\n",
    "cv2.destroyAllWindows()"
   ]
  },
  {
   "cell_type": "code",
   "execution_count": 15,
   "id": "ad12c75e-5d8f-4c7a-b126-bfb96e4241c8",
   "metadata": {},
   "outputs": [],
   "source": [
    " #OR"
   ]
  },
  {
   "cell_type": "code",
   "execution_count": 16,
   "id": "4e33d78d-ca9b-4ffc-a2c3-1ce341beda29",
   "metadata": {},
   "outputs": [],
   "source": [
    "img_or = cv2.bitwise_or(rectangle,circle)\n",
    "\n",
    "cv2.imshow('rectangle',rectangle)\n",
    "cv2.imshow('circle',circle)\n",
    "cv2.imshow('OR',img_or)\n",
    "\n",
    "cv2.waitKey(0)\n",
    "cv2.destroyAllWindows()"
   ]
  },
  {
   "cell_type": "code",
   "execution_count": 17,
   "id": "e1aeb61c-3541-48cc-9ca9-15e38a095d23",
   "metadata": {},
   "outputs": [],
   "source": [
    "#NOT"
   ]
  },
  {
   "cell_type": "code",
   "execution_count": 18,
   "id": "090e7b8a-587d-448c-99b6-c525758dfb6b",
   "metadata": {},
   "outputs": [],
   "source": [
    "img_not = cv2.bitwise_not(rectangle)\n",
    "cv2.imshow('rectangle',rectangle)\n",
    "cv2.imshow('not',img_not)\n",
    "\n",
    "cv2.waitKey(0)\n",
    "cv2.destroyAllWindows()"
   ]
  },
  {
   "cell_type": "code",
   "execution_count": 19,
   "id": "52dabcfc-f844-40f2-8a5a-fc76c600b85c",
   "metadata": {},
   "outputs": [],
   "source": [
    "#XOR"
   ]
  },
  {
   "cell_type": "code",
   "execution_count": 21,
   "id": "139a2984-0d9e-47b8-8a39-4b8bce3feae7",
   "metadata": {},
   "outputs": [],
   "source": [
    "img_xor = cv2.bitwise_xor(rectangle,circle)\n",
    "cv2.imshow('rectangle',rectangle)\n",
    "cv2.imshow('circle',circle)\n",
    "cv2.imshow('XOR',img_xor)\n",
    "cv2.waitKey(0)\n",
    "cv2.destroyAllWindows()"
   ]
  },
  {
   "cell_type": "code",
   "execution_count": 22,
   "id": "9a2804a5-a7a9-44af-b903-faff19982f54",
   "metadata": {},
   "outputs": [],
   "source": [
    "  #MASKING"
   ]
  },
  {
   "cell_type": "code",
   "execution_count": 23,
   "id": "21914d40-69fc-4daf-9293-248b8e60b36b",
   "metadata": {},
   "outputs": [],
   "source": [
    "img = cv2.imread('./m1/bird.jpg')\n",
    "\n",
    "cv2.imshow('car',img)\n",
    "cv2.waitKey(0)\n",
    "cv2.destroyAllWindows()\n"
   ]
  },
  {
   "cell_type": "code",
   "execution_count": 28,
   "id": "6a9048aa-6130-4b96-a7a8-796fb3eccef9",
   "metadata": {},
   "outputs": [],
   "source": [
    "mask = np.zeros(img.shape[:2],dtype='uint8')\n",
    "\n",
    "cv2.imshow('mask',mask)\n",
    "cv2.waitKey(0)\n",
    "cv2.destroyAllWindows()"
   ]
  },
  {
   "cell_type": "code",
   "execution_count": 31,
   "id": "c2dc277e-c362-4aca-9d4b-0ca3571fa9e4",
   "metadata": {},
   "outputs": [],
   "source": [
    "cx,cy = mask.shape[1] // 2, mask.shape[0]//2\n",
    "cv2.rectangle(mask,(cx-200,cy-200),(cx+200,cy+200),255,-1)\n",
    "\n",
    "cv2.imshow('mask',mask)\n",
    "cv2.waitKey(0)\n",
    "cv2.destroyAllWindows()"
   ]
  },
  {
   "cell_type": "code",
   "execution_count": 32,
   "id": "e157496f-a7cd-4a55-bc9e-70f53c7f6e49",
   "metadata": {},
   "outputs": [],
   "source": [
    "img_mask = cv2.bitwise_and(img,img,mask=mask)\n",
    "cv2.imshow('original',img)\n",
    "cv2.waitKey(0)\n",
    "cv2.destroyAllWindows()"
   ]
  },
  {
   "cell_type": "code",
   "execution_count": 34,
   "id": "e417bd71-1f6f-4aac-a487-656cb2044310",
   "metadata": {},
   "outputs": [],
   "source": [
    "mask_not = cv2.bitwise_not(mask)\n",
    "\n",
    "cv2.imshow('masknot',mask_not)\n",
    "cv2.waitKey(0)\n",
    "cv2.destroyAllWindows()"
   ]
  },
  {
   "cell_type": "code",
   "execution_count": 35,
   "id": "354ccaca-d129-4efc-bd6e-b556f5b7f1fb",
   "metadata": {},
   "outputs": [],
   "source": [
    "img_mask_not = cv2.bitwise_and(img,img,mask=mask_not)\n",
    "\n",
    "cv2.imshow('original',img)\n",
    "cv2.imshow('masknot',img_mask_not)\n",
    "cv2.waitKey(0)\n",
    "cv2.destroyAllWindows()"
   ]
  },
  {
   "cell_type": "code",
   "execution_count": 36,
   "id": "e7a96f78-cffd-4920-9f87-3259481b8023",
   "metadata": {},
   "outputs": [],
   "source": [
    "# circle\n",
    "mask_c = np.zeros(img.shape[:2],dtype='uint8')\n",
    "cx,cy = mask_c.shape[1]//2, mask_c.shape[0]//2\n",
    "\n",
    "cv2.circle(mask_c,(cx,cy),200,255,-1)\n",
    "cv2.imshow('circle',mask_c)\n",
    "cv2.waitKey(0)\n",
    "cv2.destroyAllWindows()"
   ]
  },
  {
   "cell_type": "code",
   "execution_count": 37,
   "id": "d8dd4568-498f-4fee-b9b8-0c3bf4e23e1e",
   "metadata": {},
   "outputs": [],
   "source": [
    "img_mask_circle = cv2.bitwise_and(img,img,mask=mask_c)\n",
    "\n",
    "cv2.imshow('original',img)\n",
    "cv2.imshow('masked image circle',img_mask_circle)\n",
    "cv2.waitKey(0)\n",
    "cv2.destroyAllWindows()"
   ]
  },
  {
   "cell_type": "code",
   "execution_count": null,
   "id": "bd8534fe-39a7-4682-a6b2-caf59e1c28a5",
   "metadata": {},
   "outputs": [],
   "source": []
  },
  {
   "cell_type": "code",
   "execution_count": null,
   "id": "ec37765d-b6af-4a32-90e6-22068e6a9602",
   "metadata": {},
   "outputs": [],
   "source": []
  },
  {
   "cell_type": "code",
   "execution_count": null,
   "id": "b80be6bd-fb4e-4a39-bf05-11b45e0a6c80",
   "metadata": {},
   "outputs": [],
   "source": []
  },
  {
   "cell_type": "code",
   "execution_count": null,
   "id": "95ff58e6-6d1f-4e0b-b2df-6074376c9681",
   "metadata": {},
   "outputs": [],
   "source": []
  },
  {
   "cell_type": "code",
   "execution_count": null,
   "id": "a686a15e-0c35-4dc0-b3b7-a5447ece1d3a",
   "metadata": {},
   "outputs": [],
   "source": []
  },
  {
   "cell_type": "code",
   "execution_count": null,
   "id": "98f7d529-dc90-4dce-a954-b1fdc7bf8093",
   "metadata": {},
   "outputs": [],
   "source": []
  },
  {
   "cell_type": "code",
   "execution_count": null,
   "id": "58147a7b-c294-4215-967a-531bfa094195",
   "metadata": {},
   "outputs": [],
   "source": []
  },
  {
   "cell_type": "code",
   "execution_count": null,
   "id": "d4d5571e-3051-4f8d-b99b-f50fb2921b3e",
   "metadata": {},
   "outputs": [],
   "source": []
  },
  {
   "cell_type": "code",
   "execution_count": null,
   "id": "01ac3b14-9258-4883-9170-a924cb845279",
   "metadata": {},
   "outputs": [],
   "source": []
  },
  {
   "cell_type": "markdown",
   "id": "0dd5cb5f-d41b-46f6-9376-37ea2816ef88",
   "metadata": {},
   "source": []
  },
  {
   "cell_type": "code",
   "execution_count": null,
   "id": "bd8c5e94-6e6d-4ee6-96f9-07a1d533cc29",
   "metadata": {},
   "outputs": [],
   "source": []
  },
  {
   "cell_type": "code",
   "execution_count": null,
   "id": "1e3820a0-052f-4232-9b21-dba0fdd8cb09",
   "metadata": {},
   "outputs": [],
   "source": []
  },
  {
   "cell_type": "code",
   "execution_count": null,
   "id": "acd2564e-85b2-447a-be09-cf52415228bb",
   "metadata": {},
   "outputs": [],
   "source": []
  },
  {
   "cell_type": "code",
   "execution_count": null,
   "id": "0a304824-bb42-4f6a-9a80-b59f21c912ef",
   "metadata": {},
   "outputs": [],
   "source": []
  },
  {
   "cell_type": "code",
   "execution_count": null,
   "id": "8b2eaab6-e34d-4bbd-b574-0f960844824b",
   "metadata": {},
   "outputs": [],
   "source": []
  },
  {
   "cell_type": "code",
   "execution_count": null,
   "id": "69f9d05b-fa18-4e6c-b1ad-008ac7ed264e",
   "metadata": {},
   "outputs": [],
   "source": []
  },
  {
   "cell_type": "code",
   "execution_count": null,
   "id": "dc5d3b6b-5be8-41cc-b241-ae71fb3d82ce",
   "metadata": {},
   "outputs": [],
   "source": []
  }
 ],
 "metadata": {
  "kernelspec": {
   "display_name": "Python 3 (ipykernel)",
   "language": "python",
   "name": "python3"
  },
  "language_info": {
   "codemirror_mode": {
    "name": "ipython",
    "version": 3
   },
   "file_extension": ".py",
   "mimetype": "text/x-python",
   "name": "python",
   "nbconvert_exporter": "python",
   "pygments_lexer": "ipython3",
   "version": "3.12.0"
  }
 },
 "nbformat": 4,
 "nbformat_minor": 5
}
