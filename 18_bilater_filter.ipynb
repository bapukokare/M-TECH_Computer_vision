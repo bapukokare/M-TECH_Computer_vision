{
 "cells": [
  {
   "cell_type": "markdown",
   "id": "9d3bf29e-bb7e-4093-9a89-e8a85c41c008",
   "metadata": {},
   "source": [
    "bilateral : idea comes from gausian filter\n",
    "input image \n",
    "spatial guasian \n",
    "bridghtness gausian\n"
   ]
  },
  {
   "cell_type": "code",
   "execution_count": null,
   "id": "26b4d3ca-d805-4065-bb75-2f7d9f4c9cdb",
   "metadata": {},
   "outputs": [],
   "source": []
  },
  {
   "cell_type": "code",
   "execution_count": null,
   "id": "8daa8793-be68-4281-85c9-7d0df8b2d464",
   "metadata": {},
   "outputs": [],
   "source": []
  },
  {
   "cell_type": "markdown",
   "id": "dfe1f765-b2d9-4e6f-9cdb-4b63dccab4c7",
   "metadata": {},
   "source": [
    "# bilateral image used for facial cleaning\n",
    "sigma s , sigma b \n",
    "\n",
    "# cv2.bilateralFilter(src,d,sigmacolor,sigmaspace"
   ]
  },
  {
   "cell_type": "code",
   "execution_count": 6,
   "id": "f91ceb47-5280-46fb-bda5-51b03ef04864",
   "metadata": {},
   "outputs": [],
   "source": [
    "import numpy as np\n",
    "import cv2\n"
   ]
  },
  {
   "cell_type": "code",
   "execution_count": 7,
   "id": "4668932d-60d0-4aa5-b24a-d151ba9e25ec",
   "metadata": {},
   "outputs": [],
   "source": [
    "img = cv2.imread('./m1/face_with_spot.jpg')\n",
    "\n",
    "cv2.imshow('face',img)\n",
    "cv2.waitKey()\n",
    "cv2.destroyAllWindows()"
   ]
  },
  {
   "cell_type": "markdown",
   "id": "f2d198ac-4579-444f-a75c-f6172ccd4eb3",
   "metadata": {},
   "source": [
    "bilaterla fiter"
   ]
  },
  {
   "cell_type": "code",
   "execution_count": 15,
   "id": "1a2c6535-bbf6-451f-a8b8-4728e22f9e28",
   "metadata": {},
   "outputs": [],
   "source": [
    "bilater_filter_img= cv2.bilateralFilter(img,20,80,50)"
   ]
  },
  {
   "cell_type": "code",
   "execution_count": null,
   "id": "b0c8d1c4-345f-45ff-94f2-ba84b40c6341",
   "metadata": {},
   "outputs": [],
   "source": []
  },
  {
   "cell_type": "code",
   "execution_count": 17,
   "id": "52458fa7-a5a9-40d4-b2d2-cf8b4398d909",
   "metadata": {},
   "outputs": [],
   "source": [
    "cv2.imshow('face',bilater_filter_img)\n",
    "cv2.imshow('origina',img)\n",
    "cv2.waitKey()\n",
    "cv2.destroyAllWindows()"
   ]
  },
  {
   "cell_type": "code",
   "execution_count": null,
   "id": "65458cb3-4402-4999-8059-f43b39224321",
   "metadata": {},
   "outputs": [],
   "source": []
  },
  {
   "cell_type": "code",
   "execution_count": null,
   "id": "765fc5a0-1b16-4af0-a9b2-49047720a483",
   "metadata": {},
   "outputs": [],
   "source": []
  },
  {
   "cell_type": "code",
   "execution_count": null,
   "id": "63ac1734-e4bc-4d4d-bbae-59519cb09703",
   "metadata": {},
   "outputs": [],
   "source": []
  },
  {
   "cell_type": "code",
   "execution_count": null,
   "id": "848d7f91-2d83-4614-a84e-4ac6fef9427c",
   "metadata": {},
   "outputs": [],
   "source": []
  },
  {
   "cell_type": "code",
   "execution_count": null,
   "id": "6ab7857e-3256-4326-a984-04536d36afd0",
   "metadata": {},
   "outputs": [],
   "source": []
  },
  {
   "cell_type": "code",
   "execution_count": null,
   "id": "a3b0c451-ebc2-4a3e-91e4-fabcda0aa202",
   "metadata": {},
   "outputs": [],
   "source": []
  },
  {
   "cell_type": "code",
   "execution_count": null,
   "id": "84cdaf83-b45c-4594-a77b-a4df45037c0b",
   "metadata": {},
   "outputs": [],
   "source": []
  },
  {
   "cell_type": "code",
   "execution_count": null,
   "id": "1fcd007c-2a89-4459-a5e5-c4625ae2f093",
   "metadata": {},
   "outputs": [],
   "source": []
  },
  {
   "cell_type": "code",
   "execution_count": null,
   "id": "cd2a7ba5-80ad-490c-b816-b262ea08b198",
   "metadata": {},
   "outputs": [],
   "source": []
  }
 ],
 "metadata": {
  "kernelspec": {
   "display_name": "Python 3 (ipykernel)",
   "language": "python",
   "name": "python3"
  },
  "language_info": {
   "codemirror_mode": {
    "name": "ipython",
    "version": 3
   },
   "file_extension": ".py",
   "mimetype": "text/x-python",
   "name": "python",
   "nbconvert_exporter": "python",
   "pygments_lexer": "ipython3",
   "version": "3.12.0"
  }
 },
 "nbformat": 4,
 "nbformat_minor": 5
}
