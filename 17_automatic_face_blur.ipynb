{
 "cells": [
  {
   "cell_type": "code",
   "execution_count": 12,
   "id": "c2a51cda-d767-4fbd-93b6-10ff14f1e2e3",
   "metadata": {},
   "outputs": [],
   "source": [
    "import numpy as np\n",
    "import cv2 "
   ]
  },
  {
   "cell_type": "code",
   "execution_count": 13,
   "id": "06451512-5210-4446-b86a-5da6b6d25969",
   "metadata": {},
   "outputs": [],
   "source": [
    "#load the image \n",
    "img = cv2.imread('./m1/happy_parents.jpg')\n"
   ]
  },
  {
   "cell_type": "code",
   "execution_count": 15,
   "id": "2ecf6000-c2ff-4880-b6c8-2772ca5fd880",
   "metadata": {},
   "outputs": [],
   "source": [
    "cv2.imshow('happy parent', img)\n",
    "cv2.waitKey()\n",
    "cv2.destroyAllWindows()"
   ]
  },
  {
   "cell_type": "code",
   "execution_count": 16,
   "id": "8a8decda-8e9a-4ab0-97be-b52414487a81",
   "metadata": {},
   "outputs": [],
   "source": [
    "#load model\n",
    "face_detection_model =cv2.dnn.readNetFromCaffe('./model/deploy.prototxt.txt','./model/res10_300x300_ssd_iter_140000_fp16.caffemodel')\n"
   ]
  },
  {
   "cell_type": "code",
   "execution_count": 17,
   "id": "76809bd1-c644-4e9f-ba41-4b48a8bcc796",
   "metadata": {},
   "outputs": [],
   "source": [
    "# blob form image\n",
    "image= img.copy()\n",
    "blob = cv2.dnn.blobFromImage(image,1,(300,300),(104,177,123),swapRB=True)\n",
    "face_detection_model.setInput(blob)\n",
    "detections= face_detection_model.forward()"
   ]
  },
  {
   "cell_type": "code",
   "execution_count": 18,
   "id": "52e5da4c-5d4b-4874-b6ee-ce842ef142c0",
   "metadata": {},
   "outputs": [
    {
     "data": {
      "text/plain": [
       "array([[[[0.        , 1.        , 0.89241487, ..., 0.23449695,\n",
       "          0.49035037, 0.35220194],\n",
       "         [0.        , 1.        , 0.8231071 , ..., 0.38387397,\n",
       "          0.4965028 , 0.5540676 ],\n",
       "         [0.        , 1.        , 0.10900012, ..., 0.4561051 ,\n",
       "          0.4984677 , 0.61265206],\n",
       "         ...,\n",
       "         [0.        , 0.        , 0.        , ..., 0.        ,\n",
       "          0.        , 0.        ],\n",
       "         [0.        , 0.        , 0.        , ..., 0.        ,\n",
       "          0.        , 0.        ],\n",
       "         [0.        , 0.        , 0.        , ..., 0.        ,\n",
       "          0.        , 0.        ]]]], dtype=float32)"
      ]
     },
     "execution_count": 18,
     "metadata": {},
     "output_type": "execute_result"
    }
   ],
   "source": [
    "detections"
   ]
  },
  {
   "cell_type": "code",
   "execution_count": 19,
   "id": "03826371-4f0a-4bc3-af48-8f835000db1f",
   "metadata": {},
   "outputs": [
    {
     "data": {
      "text/plain": [
       "(1, 1, 200, 7)"
      ]
     },
     "execution_count": 19,
     "metadata": {},
     "output_type": "execute_result"
    }
   ],
   "source": [
    "detections.shape"
   ]
  },
  {
   "cell_type": "code",
   "execution_count": 20,
   "id": "8618938e-520d-4240-b001-ba54a630eb2f",
   "metadata": {},
   "outputs": [
    {
     "name": "stdout",
     "output_type": "stream",
     "text": [
      "0.89241487\n",
      "0.8231071\n"
     ]
    }
   ],
   "source": [
    "for i in range(detections.shape[2]):\n",
    "    confidence= detections[0,0,i,2]\n",
    "    if confidence >0.5:\n",
    "        print(confidence)"
   ]
  },
  {
   "cell_type": "code",
   "execution_count": 21,
   "id": "47c2d511-ae20-44b0-a3b9-b3e701541aa8",
   "metadata": {},
   "outputs": [
    {
     "name": "stdout",
     "output_type": "stream",
     "text": [
      "[427 156 490 234]\n",
      "[411 255 496 369]\n"
     ]
    }
   ],
   "source": [
    "#get height and withd of box\n",
    "image = img.copy()\n",
    "h,w = image.shape[:2]\n",
    "for i in range(detections.shape[2]):\n",
    "    confidence = detections[0,0,i,2]\n",
    "    if confidence >0.5:\n",
    "        \n",
    "        #box= detections[0,0,i,3:7]\n",
    "        #denormanlise arr to get actuall height and width\n",
    "        box = detections[0,0,i,3:7]*np.array([w,h,w,h])\n",
    "        box= box.astype(int)\n",
    "        cv2.rectangle(image,(box[0],box[1]),(box[2],box[3]),(0,0,255))\n",
    "        print(box)\n",
    "\n",
    "cv2.imshow('face detection',image)\n",
    "cv2.waitKey()\n",
    "cv2.destroyAllWindows()"
   ]
  },
  {
   "cell_type": "code",
   "execution_count": 22,
   "id": "cc69212f-85ae-45f2-bbb6-84bf14e8334c",
   "metadata": {},
   "outputs": [
    {
     "name": "stdout",
     "output_type": "stream",
     "text": [
      "[427 156 490 234]\n",
      "[411 255 496 369]\n"
     ]
    }
   ],
   "source": [
    "#step2 mask image\n",
    "#get height and withd of box\n",
    "image= img.copy()\n",
    "h,w = image.shape[:2]\n",
    "#mask image \n",
    "face_mask = np.zeros(image.shape[:2],dtype='uint8')# 2-d array graysclae\n",
    "\n",
    "\n",
    "for i in range(detections.shape[2]):\n",
    "    confidence = detections[0,0,i,2]\n",
    "    if confidence >0.5:\n",
    "        \n",
    "        #box= detections[0,0,i,3:7]\n",
    "        #denormanlise arr to get actuall height and width\n",
    "        box = detections[0,0,i,3:7]*np.array([w,h,w,h])\n",
    "        box= box.astype(int)\n",
    "        cv2.rectangle(face_mask,(box[0],box[1]),(box[2],box[3]),255,-1)\n",
    "        print(box)\n",
    "        \n",
    "inv_face_mask = cv2.bitwise_not(face_mask)\n",
    "#step 3: apply mask imate to original image\n",
    "\n",
    "bg_img= cv2.bitwise_and(image,image,mask=face_mask)\n",
    "fg_img= cv2.bitwise_and(image,image,mask=inv_face_mask)\n",
    "\n",
    "#step 4: blur image with gausian blur\n",
    "bg_img_blur = cv2.GaussianBlur(bg_img,(51,51),0)\n",
    "\n",
    "#Step 5: Addition operation \n",
    "face_blur = cv2.add(fg_img,bg_img_blur)\n",
    "\n",
    "# display two image\n",
    "cv2.imshow('origina',image)\n",
    "#cv2.imshow('face detection',face_mask)\n",
    "#cv2.imshow('face etection',inv_face_mask)\n",
    "#cv2.imshow('backgrounf',bg_img)\n",
    "#cv2.imshow('forre gorun image',fg_img)\n",
    "#cv2.imshow('blur image', bg_img_blur\n",
    "cv2.imshow('facial blur image', face_blur)\n",
    "cv2.waitKey()\n",
    "cv2.destroyAllWindows()\n",
    "\n"
   ]
  },
  {
   "cell_type": "code",
   "execution_count": 28,
   "id": "2800bbcd-ab84-4fff-8613-551faaa21db6",
   "metadata": {},
   "outputs": [],
   "source": [
    "#cteate function\n",
    "import numpy as np \n",
    "import cv2\n",
    "def face_blur(img):\n",
    "    #step2 mask image\n",
    "    #get height and withd of box\n",
    "    image= img.copy()\n",
    "    blob = cv2.dnn.blobFromImage(image,1,(300,300),(104,177,123),swapRB=True)\n",
    "    face_detection_model.setInput(blob)\n",
    "    detections= face_detection_model.forward()\n",
    "    h,w = image.shape[:2]\n",
    "    #mask image \n",
    "    face_mask = np.zeros(image.shape[:2],dtype='uint8')# 2-d array graysclae\n",
    "    \n",
    "    \n",
    "    for i in range(detections.shape[2]):\n",
    "        confidence = detections[0,0,i,2]\n",
    "        if confidence >0.5:\n",
    "            \n",
    "            #box= detections[0,0,i,3:7]\n",
    "            #denormanlise arr to get actuall height and width\n",
    "            box = detections[0,0,i,3:7]*np.array([w,h,w,h])\n",
    "            box= box.astype(int)\n",
    "            cv2.rectangle(face_mask,(box[0],box[1]),(box[2],box[3]),255,-1)\n",
    "            print(box)\n",
    "            \n",
    "    inv_face_mask = cv2.bitwise_not(face_mask)\n",
    "    #step 3: apply mask imate to original image\n",
    "    \n",
    "    bg_img= cv2.bitwise_and(image,image,mask=face_mask)\n",
    "    fg_img= cv2.bitwise_and(image,image,mask=inv_face_mask)\n",
    "    \n",
    "    #step 4: blur image with gausian blur\n",
    "    bg_img_blur = cv2.GaussianBlur(bg_img,(51,51),0)\n",
    "    \n",
    "    #Step 5: Addition operation \n",
    "    face_blur = cv2.add(fg_img,bg_img_blur)\n",
    "    return face_blur\n"
   ]
  },
  {
   "cell_type": "code",
   "execution_count": null,
   "id": "1131418a-37bc-4162-b6fe-f61f8067a30b",
   "metadata": {},
   "outputs": [],
   "source": []
  },
  {
   "cell_type": "code",
   "execution_count": null,
   "id": "1cb859f3-acdb-497c-91d4-48b0360a79f5",
   "metadata": {},
   "outputs": [],
   "source": []
  },
  {
   "cell_type": "code",
   "execution_count": 29,
   "id": "7f5be7c8-faf9-445e-bf6d-53969bffc136",
   "metadata": {},
   "outputs": [
    {
     "name": "stdout",
     "output_type": "stream",
     "text": [
      "[427 156 490 234]\n",
      "[411 255 496 369]\n"
     ]
    }
   ],
   "source": [
    "blur_img = face_blur(img)\n",
    "cv2.imshow('original', img)\n",
    "cv2.imshow('facial blur image', blur_img)\n",
    "cv2.waitKey()\n",
    "cv2.destroyAllWindows()\n"
   ]
  },
  {
   "cell_type": "code",
   "execution_count": null,
   "id": "1c44ade3-0556-4ae6-a3ca-3337d95f189d",
   "metadata": {},
   "outputs": [],
   "source": []
  },
  {
   "cell_type": "code",
   "execution_count": 7,
   "id": "163c2965-25bd-4a7c-9770-ff7ae875818b",
   "metadata": {},
   "outputs": [],
   "source": [
    "#real time facial blur"
   ]
  },
  {
   "cell_type": "code",
   "execution_count": 30,
   "id": "f10d9d0e-369d-4e16-9158-e404ef50fb3e",
   "metadata": {},
   "outputs": [
    {
     "name": "stdout",
     "output_type": "stream",
     "text": [
      "[259 101 424 308]\n",
      "[257 102 425 310]\n",
      "[257 102 425 310]\n",
      "[257 103 426 309]\n",
      "[257 103 425 309]\n",
      "[257 103 425 309]\n",
      "[257 102 426 309]\n",
      "[257 102 426 309]\n",
      "[256 102 426 309]\n",
      "[256 102 426 309]\n",
      "[255 102 426 309]\n",
      "[255 102 426 309]\n",
      "[256 102 426 308]\n",
      "[256 102 426 308]\n",
      "[257 101 425 309]\n",
      "[257 101 425 309]\n",
      "[257 101 425 309]\n",
      "[258 100 426 309]\n",
      "[258 100 426 309]\n",
      "[258  97 427 308]\n",
      "[258  97 427 308]\n",
      "[260  99 429 307]\n",
      "[260  99 429 307]\n",
      "[262  99 431 307]\n",
      "[262  99 431 307]\n",
      "[264  99 432 308]\n",
      "[264  99 432 308]\n",
      "[266 102 436 306]\n",
      "[267 103 437 304]\n",
      "[267 103 437 304]\n",
      "[268 104 438 305]\n",
      "[268 104 438 305]\n",
      "[268 103 438 306]\n",
      "[268 103 438 306]\n",
      "[267 105 438 307]\n",
      "[267 105 438 307]\n",
      "[268 104 437 306]\n",
      "[268 104 437 306]\n",
      "[267 102 438 305]\n",
      "[267 102 438 305]\n",
      "[266 103 436 306]\n",
      "[266 103 436 307]\n",
      "[266 103 436 307]\n",
      "[266 102 435 306]\n",
      "[266 102 435 306]\n",
      "[265 101 433 306]\n",
      "[265 101 433 306]\n",
      "[264  93 429 305]\n",
      "[264  93 429 305]\n",
      "[260  98 430 306]\n",
      "[260  98 430 306]\n",
      "[257  96 423 302]\n",
      "[256  97 423 302]\n",
      "[256  97 423 302]\n",
      "[255  96 421 301]\n",
      "[255  96 421 301]\n",
      "[255  97 421 302]\n",
      "[255  97 421 302]\n",
      "[255  97 422 302]\n",
      "[255  97 422 302]\n",
      "[255  96 423 303]\n",
      "[255  96 423 303]\n",
      "[256  97 424 305]\n",
      "[256  97 424 305]\n",
      "[256  97 425 308]\n",
      "[256  97 424 306]\n",
      "[256  97 424 306]\n",
      "[257  97 424 306]\n",
      "[257  97 424 306]\n",
      "[258  97 424 305]\n",
      "[258  97 424 305]\n",
      "[258  97 425 305]\n",
      "[258  97 425 305]\n",
      "[258  97 426 307]\n",
      "[258  97 426 307]\n",
      "[257  97 426 306]\n",
      "[259  97 427 305]\n",
      "[259  97 427 305]\n",
      "[260  99 429 305]\n",
      "[260  99 429 305]\n",
      "[260 100 430 305]\n",
      "[260 100 430 305]\n",
      "[261  96 427 304]\n",
      "[261  96 427 304]\n",
      "[263  92 427 299]\n",
      "[263  92 427 299]\n",
      "[261  99 430 305]\n",
      "[260  97 428 305]\n",
      "[260  97 428 305]\n",
      "[261  97 427 305]\n",
      "[261  97 427 305]\n",
      "[260  99 430 305]\n",
      "[260  99 430 305]\n",
      "[260  98 430 304]\n",
      "[260  98 430 304]\n",
      "[262  94 426 301]\n",
      "[262  93 426 302]\n",
      "[262  93 426 302]\n",
      "[262  93 426 300]\n",
      "[262  93 426 300]\n",
      "[259  97 426 306]\n",
      "[259  97 426 306]\n",
      "[257  98 424 305]\n",
      "[257  98 422 303]\n"
     ]
    }
   ],
   "source": [
    "cap = cv2.VideoCapture(0)\n",
    "while True: \n",
    "    ret, frame = cap.read()\n",
    "    if ret==False:\n",
    "        break\n",
    "    blur_img=face_blur(frame)\n",
    "    cv2.imshow('original',frame)\n",
    "    cv2.imshow('blur image',blur_img)\n",
    "    if cv2.waitKey(1)==27: # use esc to close program\n",
    "        break\n",
    "\n",
    "cap.release()\n",
    "cv2.destroyAllWindows()\n",
    "    "
   ]
  },
  {
   "cell_type": "code",
   "execution_count": null,
   "id": "b0da17d5-9038-48cf-87d1-6e6c3ec99ada",
   "metadata": {},
   "outputs": [],
   "source": []
  },
  {
   "cell_type": "code",
   "execution_count": null,
   "id": "d5c96a33-7548-4d8e-9ebe-cd9ad8d52e5a",
   "metadata": {},
   "outputs": [],
   "source": []
  },
  {
   "cell_type": "code",
   "execution_count": null,
   "id": "99ebbf58-eb6c-495f-a56d-f06bdd3795f7",
   "metadata": {},
   "outputs": [],
   "source": []
  },
  {
   "cell_type": "code",
   "execution_count": null,
   "id": "274e18d0-3741-4d60-bd34-5766a8778a44",
   "metadata": {},
   "outputs": [],
   "source": []
  },
  {
   "cell_type": "code",
   "execution_count": null,
   "id": "81b9737c-a28b-4e14-a6d2-8a8f446279c3",
   "metadata": {},
   "outputs": [],
   "source": []
  },
  {
   "cell_type": "code",
   "execution_count": null,
   "id": "9591d67e-aa54-486d-9bde-a2d7cc017383",
   "metadata": {},
   "outputs": [],
   "source": []
  },
  {
   "cell_type": "code",
   "execution_count": null,
   "id": "b1b535ee-7674-4fe5-aa1f-21fee592e59d",
   "metadata": {},
   "outputs": [],
   "source": []
  },
  {
   "cell_type": "code",
   "execution_count": null,
   "id": "ff46c463-9cdc-4557-b3d8-9700f2a28f72",
   "metadata": {},
   "outputs": [],
   "source": []
  },
  {
   "cell_type": "code",
   "execution_count": null,
   "id": "da2d1f07-61f8-4e78-bfb9-1d73ef4a47bb",
   "metadata": {},
   "outputs": [],
   "source": []
  },
  {
   "cell_type": "code",
   "execution_count": null,
   "id": "e87238d3-377e-4908-b36a-d90b51c67ff7",
   "metadata": {},
   "outputs": [],
   "source": []
  },
  {
   "cell_type": "code",
   "execution_count": null,
   "id": "ce4e2b27-2ab3-44b9-bbd4-c59a8eebbfaf",
   "metadata": {},
   "outputs": [],
   "source": []
  },
  {
   "cell_type": "code",
   "execution_count": null,
   "id": "20643e2d-4428-46b1-a648-5b99a29c5818",
   "metadata": {},
   "outputs": [],
   "source": []
  },
  {
   "cell_type": "code",
   "execution_count": null,
   "id": "119a34bf-1915-4a67-a674-a915262e9ecb",
   "metadata": {},
   "outputs": [],
   "source": []
  },
  {
   "cell_type": "code",
   "execution_count": null,
   "id": "03edf857-c43c-4256-b9d1-adc839c6d75e",
   "metadata": {},
   "outputs": [],
   "source": []
  },
  {
   "cell_type": "code",
   "execution_count": null,
   "id": "12131ff3-b4f3-4035-9c33-0b8d44fa13d6",
   "metadata": {},
   "outputs": [],
   "source": [
    "\n"
   ]
  },
  {
   "cell_type": "code",
   "execution_count": null,
   "id": "b0d485a6-12ba-4e1d-9104-e768556601cd",
   "metadata": {},
   "outputs": [],
   "source": []
  },
  {
   "cell_type": "code",
   "execution_count": null,
   "id": "17ec6eb6-ece8-4323-a159-5d3743fcb78e",
   "metadata": {},
   "outputs": [],
   "source": []
  },
  {
   "cell_type": "code",
   "execution_count": null,
   "id": "97980398-3575-4a71-b8c5-74f81a504c13",
   "metadata": {},
   "outputs": [],
   "source": [
    " "
   ]
  },
  {
   "cell_type": "code",
   "execution_count": null,
   "id": "bdc8dd93-2ebd-431f-8ce3-655567725a21",
   "metadata": {},
   "outputs": [],
   "source": []
  },
  {
   "cell_type": "code",
   "execution_count": null,
   "id": "e2377694-3c14-4480-88e3-7b4157349a31",
   "metadata": {},
   "outputs": [],
   "source": []
  },
  {
   "cell_type": "code",
   "execution_count": null,
   "id": "e419169f-7e9f-4be4-9b25-985d4f005bc8",
   "metadata": {},
   "outputs": [],
   "source": []
  },
  {
   "cell_type": "code",
   "execution_count": null,
   "id": "11cacae0-6779-4a1f-84eb-14fc55c58ab2",
   "metadata": {},
   "outputs": [],
   "source": []
  },
  {
   "cell_type": "code",
   "execution_count": null,
   "id": "f45c3568-11b1-4a2c-ad0b-bd36c45ec15f",
   "metadata": {},
   "outputs": [],
   "source": []
  },
  {
   "cell_type": "code",
   "execution_count": null,
   "id": "01f4f533-41b4-44e8-b595-c21351c10c51",
   "metadata": {},
   "outputs": [],
   "source": []
  },
  {
   "cell_type": "code",
   "execution_count": null,
   "id": "44e55b15-bd8a-4cc9-98bc-92a031d05f37",
   "metadata": {},
   "outputs": [],
   "source": []
  }
 ],
 "metadata": {
  "kernelspec": {
   "display_name": "Python 3 (ipykernel)",
   "language": "python",
   "name": "python3"
  },
  "language_info": {
   "codemirror_mode": {
    "name": "ipython",
    "version": 3
   },
   "file_extension": ".py",
   "mimetype": "text/x-python",
   "name": "python",
   "nbconvert_exporter": "python",
   "pygments_lexer": "ipython3",
   "version": "3.12.0"
  }
 },
 "nbformat": 4,
 "nbformat_minor": 5
}
