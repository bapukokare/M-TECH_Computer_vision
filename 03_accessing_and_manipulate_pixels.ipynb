{
 "cells": [
  {
   "cell_type": "code",
   "execution_count": 1,
   "id": "c1e8b03a-0df8-48d6-8a8c-0605d15a2af8",
   "metadata": {},
   "outputs": [],
   "source": [
    "import cv2\n",
    "import numpy as np"
   ]
  },
  {
   "cell_type": "code",
   "execution_count": 17,
   "id": "ed0edf2f-c618-4c12-87c2-4f19ca250051",
   "metadata": {},
   "outputs": [],
   "source": [
    "img = cv2.imread('./m1/bird.jpg')"
   ]
  },
  {
   "cell_type": "code",
   "execution_count": 18,
   "id": "ff22c386-9f98-408c-92e1-91ba1c96da8a",
   "metadata": {},
   "outputs": [
    {
     "data": {
      "text/plain": [
       "array([[[128, 191, 249],\n",
       "        [129, 192, 250],\n",
       "        [129, 192, 250],\n",
       "        ...,\n",
       "        [141, 198, 249],\n",
       "        [140, 197, 248],\n",
       "        [140, 197, 248]],\n",
       "\n",
       "       [[129, 192, 250],\n",
       "        [129, 192, 250],\n",
       "        [129, 192, 250],\n",
       "        ...,\n",
       "        [141, 198, 249],\n",
       "        [140, 197, 248],\n",
       "        [140, 197, 248]],\n",
       "\n",
       "       [[131, 191, 250],\n",
       "        [131, 191, 250],\n",
       "        [129, 192, 250],\n",
       "        ...,\n",
       "        [141, 198, 249],\n",
       "        [140, 197, 248],\n",
       "        [140, 197, 248]],\n",
       "\n",
       "       ...,\n",
       "\n",
       "       [[ 50, 153, 178],\n",
       "        [ 51, 154, 179],\n",
       "        [ 51, 154, 179],\n",
       "        ...,\n",
       "        [ 87, 180, 201],\n",
       "        [ 87, 181, 200],\n",
       "        [ 87, 181, 200]],\n",
       "\n",
       "       [[ 50, 153, 178],\n",
       "        [ 51, 154, 179],\n",
       "        [ 51, 154, 179],\n",
       "        ...,\n",
       "        [ 87, 180, 201],\n",
       "        [ 87, 181, 200],\n",
       "        [ 87, 181, 200]],\n",
       "\n",
       "       [[ 50, 153, 178],\n",
       "        [ 51, 154, 179],\n",
       "        [ 51, 154, 179],\n",
       "        ...,\n",
       "        [ 87, 180, 201],\n",
       "        [ 87, 181, 200],\n",
       "        [ 87, 181, 200]]], dtype=uint8)"
      ]
     },
     "execution_count": 18,
     "metadata": {},
     "output_type": "execute_result"
    }
   ],
   "source": [
    "img"
   ]
  },
  {
   "cell_type": "code",
   "execution_count": 19,
   "id": "0ce93d1d-d76e-4f11-b1f7-d762b0575357",
   "metadata": {},
   "outputs": [],
   "source": [
    "def display(winname,image):\n",
    "    cv2.imshow(winname,image)\n",
    "    cv2.waitKey(0)\n",
    "    cv2.destroyAllWindows()\n"
   ]
  },
  {
   "cell_type": "code",
   "execution_count": 20,
   "id": "34ba6d8c-8e18-49c4-b817-7812288436b5",
   "metadata": {},
   "outputs": [],
   "source": [
    "display('winname',img)"
   ]
  },
  {
   "cell_type": "code",
   "execution_count": 21,
   "id": "029f0392-bc23-4efb-af4d-4e013b147aa2",
   "metadata": {},
   "outputs": [
    {
     "data": {
      "text/plain": [
       "(427, 640, 3)"
      ]
     },
     "execution_count": 21,
     "metadata": {},
     "output_type": "execute_result"
    }
   ],
   "source": [
    "img.shape"
   ]
  },
  {
   "cell_type": "code",
   "execution_count": 9,
   "id": "f64d3f07-d9de-4cbc-8ce2-c173e1b01795",
   "metadata": {},
   "outputs": [],
   "source": [
    "# access first 100 rows and 100 columns methos"
   ]
  },
  {
   "cell_type": "code",
   "execution_count": 22,
   "id": "56dfce03-7bed-43fe-a4d6-1d47c10587bb",
   "metadata": {},
   "outputs": [
    {
     "data": {
      "text/plain": [
       "numpy.ndarray"
      ]
     },
     "execution_count": 22,
     "metadata": {},
     "output_type": "execute_result"
    }
   ],
   "source": [
    "type(img)"
   ]
  },
  {
   "cell_type": "code",
   "execution_count": 29,
   "id": "6e711265-c681-4347-b255-dde180a79dce",
   "metadata": {},
   "outputs": [],
   "source": [
    "# access fist 100 rows and 100 columns\n",
    "corners = img[0:100,0:100]"
   ]
  },
  {
   "cell_type": "code",
   "execution_count": 26,
   "id": "f46f3a5a-60dc-4300-8aa4-00d2493ec193",
   "metadata": {},
   "outputs": [],
   "source": [
    "display('corner',corners)\n"
   ]
  },
  {
   "cell_type": "code",
   "execution_count": 30,
   "id": "63945c7a-e3de-4559-bcb5-fce2039bf291",
   "metadata": {},
   "outputs": [],
   "source": [
    "cv2.imshow('orginial',img)\n",
    "cv2.imshow('corners',corners)\n",
    "cv2.waitKey(0)\n",
    "cv2.destroyAllWindows()"
   ]
  },
  {
   "cell_type": "code",
   "execution_count": 31,
   "id": "e786bde7-b0c0-4202-8e49-07f502dbd065",
   "metadata": {},
   "outputs": [],
   "source": [
    "# change first 100 s and 100 coumns to green color\n",
    "green = (0,144,124)\n",
    "img[0:100,0:100]= green\n"
   ]
  },
  {
   "cell_type": "code",
   "execution_count": 32,
   "id": "4ddd708a-5598-4519-9ae3-c382bf39b84f",
   "metadata": {},
   "outputs": [],
   "source": [
    "display('manipulate',img)"
   ]
  },
  {
   "cell_type": "code",
   "execution_count": null,
   "id": "154a3b3b-ca69-468c-b27d-1ec3a7c39833",
   "metadata": {},
   "outputs": [],
   "source": []
  },
  {
   "cell_type": "code",
   "execution_count": null,
   "id": "2d160b36-db41-4f7d-9ff0-1f21d291ccde",
   "metadata": {},
   "outputs": [],
   "source": []
  },
  {
   "cell_type": "code",
   "execution_count": 33,
   "id": "c3b6a6d4-559e-4ff3-8a70-cfbd0600b9f9",
   "metadata": {},
   "outputs": [
    {
     "data": {
      "text/plain": [
       "(427, 640, 3)"
      ]
     },
     "execution_count": 33,
     "metadata": {},
     "output_type": "execute_result"
    }
   ],
   "source": [
    "img.shape"
   ]
  },
  {
   "cell_type": "code",
   "execution_count": null,
   "id": "fa611629-a6e0-4a61-91b5-1440161de5d8",
   "metadata": {},
   "outputs": [],
   "source": []
  },
  {
   "cell_type": "code",
   "execution_count": null,
   "id": "ca4390ea-6bb2-4b4e-9299-0d4f57b75616",
   "metadata": {},
   "outputs": [],
   "source": []
  },
  {
   "cell_type": "code",
   "execution_count": null,
   "id": "733ae558-36e2-4b3d-b3aa-72dd81c483a5",
   "metadata": {},
   "outputs": [],
   "source": []
  }
 ],
 "metadata": {
  "kernelspec": {
   "display_name": "Python 3 (ipykernel)",
   "language": "python",
   "name": "python3"
  },
  "language_info": {
   "codemirror_mode": {
    "name": "ipython",
    "version": 3
   },
   "file_extension": ".py",
   "mimetype": "text/x-python",
   "name": "python",
   "nbconvert_exporter": "python",
   "pygments_lexer": "ipython3",
   "version": "3.12.0"
  }
 },
 "nbformat": 4,
 "nbformat_minor": 5
}
