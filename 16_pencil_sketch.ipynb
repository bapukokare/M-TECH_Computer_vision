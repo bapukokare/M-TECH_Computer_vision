{
 "cells": [
  {
   "cell_type": "code",
   "execution_count": 1,
   "id": "cbed4f11-26a2-4e4e-9c3b-3b4e198117b9",
   "metadata": {},
   "outputs": [],
   "source": [
    "import numpy as np\n",
    "import cv2"
   ]
  },
  {
   "cell_type": "code",
   "execution_count": 2,
   "id": "b02678f7-2452-43df-8f14-6fd392792a42",
   "metadata": {},
   "outputs": [],
   "source": [
    "img = cv2.imread('./m1/friends.jpg')"
   ]
  },
  {
   "cell_type": "code",
   "execution_count": 3,
   "id": "387054f8-e803-4f03-9ea5-e0ffdf8e6023",
   "metadata": {},
   "outputs": [],
   "source": [
    "cv2.imshow('friend',img)\n",
    "cv2.waitKey(0)\n",
    "cv2.destroyAllWindows()"
   ]
  },
  {
   "cell_type": "markdown",
   "id": "3acb226c-c7b2-4803-90cd-8a150ac05dc5",
   "metadata": {},
   "source": [
    "![image](./m1/pencil_sketch_flow.png)"
   ]
  },
  {
   "cell_type": "code",
   "execution_count": 5,
   "id": "76dedba5-1263-4527-8d2e-5b1de1dd166f",
   "metadata": {},
   "outputs": [],
   "source": [
    "#step conver image to gray scale\n",
    "gray= cv2.cvtColor(img,cv2.COLOR_BGR2GRAY)"
   ]
  },
  {
   "cell_type": "code",
   "execution_count": 9,
   "id": "91bf1eba-d670-4dea-8561-25556ffc7503",
   "metadata": {},
   "outputs": [],
   "source": [
    "cv2.imshow('original',img)\n",
    "cv2.imshow('grayscale',gray)\n",
    "cv2.waitKey(0)\n",
    "cv2.destroyAllWindows()"
   ]
  },
  {
   "cell_type": "code",
   "execution_count": 7,
   "id": "e311dce6-7b8e-4043-b43c-ef0147020949",
   "metadata": {},
   "outputs": [],
   "source": [
    "#apply gaussian blur"
   ]
  },
  {
   "cell_type": "code",
   "execution_count": 10,
   "id": "9c5406b9-4bf3-4546-a97d-1cbf35e12876",
   "metadata": {},
   "outputs": [],
   "source": [
    "#step2 gaussian\n",
    "gausian= cv2.GaussianBlur(gray,(3,3),0)\n",
    "cv2.imshow('grayscale',gausian)\n",
    "cv2.waitKey(0)\n",
    "cv2.destroyAllWindows()"
   ]
  },
  {
   "cell_type": "code",
   "execution_count": 11,
   "id": "4109b55e-ff36-4ac5-8a18-0fa00438fb7a",
   "metadata": {},
   "outputs": [],
   "source": [
    "#step3 dividision image nr= grascale, dr= gausina\n",
    "division_image= cv2.divide(gray,gausian,scale=256)\n",
    "\n",
    "cv2.imshow('division',division_image)\n",
    "cv2.waitKey(0)\n",
    "cv2.destroyAllWindows()"
   ]
  },
  {
   "cell_type": "code",
   "execution_count": 12,
   "id": "5c9b6351-989b-4c50-87f9-c45f5e385d99",
   "metadata": {},
   "outputs": [],
   "source": [
    "#step4: adjust the Gama factor\n",
    "gamma=0.1\n",
    "if gamma==0:\n",
    "    gamma=0.01\n",
    "    \n",
    "invgamma = 1/gamma #inversees\n",
    "#create look up table \n",
    "lut= np.array([((i/255)**invgamma)*255 for i in range(0,256)])\n",
    "pencil_sketch_img = cv2.LUT(division_image.astype('uint8'), lut.astype('uint8'))\n",
    "                            "
   ]
  },
  {
   "cell_type": "code",
   "execution_count": null,
   "id": "365527ee-f5c0-4e22-921b-f6f878a75132",
   "metadata": {},
   "outputs": [],
   "source": []
  },
  {
   "cell_type": "code",
   "execution_count": 13,
   "id": "9800f8c1-33e6-47bb-8afa-e24c9ebf0e94",
   "metadata": {},
   "outputs": [],
   "source": [
    "cv2.imshow('pencil sketch',pencil_sketch_img)\n",
    "cv2.waitKey(0)\n",
    "cv2.destroyAllWindows()"
   ]
  },
  {
   "cell_type": "code",
   "execution_count": 22,
   "id": "d9cc93de-0dcc-40a0-9319-00eed45db051",
   "metadata": {},
   "outputs": [],
   "source": [
    "#function"
   ]
  },
  {
   "cell_type": "code",
   "execution_count": 2,
   "id": "a29cdc88-3cdf-4f97-a364-28fc115abefa",
   "metadata": {},
   "outputs": [],
   "source": [
    "def pencil_sketch(image,gamma):\n",
    "    # read image\n",
    "    #step1: conver image to gray\n",
    "    gray= cv2.cvtColor(image,cv2.COLOR_BGR2GRAY)\n",
    "    #step2: apply gausian blur to image\n",
    "    gausian= cv2.GaussianBlur(gray,(3,3),0)\n",
    "    #step3: apply division(gray/blur imag)\n",
    "    division_image= cv2.divide(gray,gausian,scale=256)\n",
    "    #step4: adjust the Gama factor\n",
    "    gamma=0.1\n",
    "    if gamma==0:\n",
    "        gamma=0.01\n",
    "\n",
    "    elif gamma < 0:\n",
    "        raise Exeption('Cant be Negative, Gamma value can not be negative number')\n",
    "\n",
    "    elif gamma > 1:\n",
    "        raise Exception('Gamma value can not be grater than 1 range(0,1)')\n",
    "    \n",
    "    invgamma = 1/gamma #inversees\n",
    "\n",
    "    #create look up table \n",
    "    lut= np.array([((i/255)**invgamma)*255 for i in range(0,256)])\n",
    "    pencil_sketch_img = cv2.LUT(division_image.astype('uint8'), lut.astype('uint8'))\n",
    "    \n",
    "    return pencil_sketch_img\n",
    "\n",
    "    #display image\n",
    "    \n",
    "\n",
    "        "
   ]
  },
  {
   "cell_type": "code",
   "execution_count": null,
   "id": "ffbff186-4b94-4929-a9bb-3a8c502e14f7",
   "metadata": {},
   "outputs": [],
   "source": [
    "pencil =pencil_sketch(img,0.1)\n",
    "cv2.imshow('original',img)\n",
    "cv2.imshow('pencil sketch',pencil)\n",
    "cv2.waitKey(0)\n",
    "cv2.destroyAllWindows()"
   ]
  },
  {
   "cell_type": "code",
   "execution_count": null,
   "id": "65f05938-4d1e-446b-8246-89a66a05439b",
   "metadata": {},
   "outputs": [],
   "source": []
  },
  {
   "cell_type": "markdown",
   "id": "9369a08d-3c29-46c4-a8d5-966a3f73df71",
   "metadata": {},
   "source": [
    "GUI for Pencil Sketch"
   ]
  },
  {
   "cell_type": "code",
   "execution_count": 59,
   "id": "2b800e96-230b-4c78-94f7-e0900edf7f1a",
   "metadata": {},
   "outputs": [],
   "source": [
    "#adjust the k size and gamma"
   ]
  },
  {
   "cell_type": "code",
   "execution_count": 2,
   "id": "3f0be258-9d68-429a-8584-e2444043a559",
   "metadata": {},
   "outputs": [],
   "source": [
    "def pencil_sketch(image,ksize,gamma):\n",
    "    # read image\n",
    "    #step1: conver image to gray\n",
    "    gray= cv2.cvtColor(image,cv2.COLOR_BGR2GRAY)\n",
    "    #step2: apply gausian blur to image\n",
    "    blur= cv2.GaussianBlur(gray,(ksize,ksize),0)\n",
    "    #step3: apply division(gray/blur imag)\n",
    "    division_image= cv2.divide(gray,blur,scale=256)\n",
    "    #step4: adjust the Gama factor\n",
    "    if gamma==0:\n",
    "        gamma=0.01\n",
    "\n",
    "    elif gamma < 0:\n",
    "        raise Exeption('Cant be Negative, Gamma value can not be negative number')\n",
    "\n",
    "    elif gamma > 1:\n",
    "        raise Exception('Gamma value can not be grater than 1 range(0,1)')\n",
    "    \n",
    "    invgamma = 1/gamma #inversees\n",
    "\n",
    "    #create look up table \n",
    "    lut= np.array([((i/255)**invgamma)*255 for i in range(0,256)])\n",
    "    pencil_sketch_img = cv2.LUT(division_image.astype('uint8'), lut.astype('uint8'))\n",
    "    \n",
    "    return pencil_sketch_img\n",
    "\n"
   ]
  },
  {
   "cell_type": "code",
   "execution_count": null,
   "id": "7b368ec5-87c7-4683-b712-7c5af641aad9",
   "metadata": {},
   "outputs": [],
   "source": [
    "image= cv2.imread('./m1/friends.jpg')\n",
    "#cotrol panel \n",
    "cv2.namedWindow('Control Panel')\n",
    "cv2.createTrackbar('ksize','Control Panel',1,100,(lambda x:None) )\n",
    "cv2.createTrackbar('gamma','Control Panel',1,100,(lambda x:None))\n",
    "while True:\n",
    "    k = cv2.getTrackbarPos('ksize','Control Panel')\n",
    "    #k size should be odd number\n",
    "    k = 2*k + 1\n",
    "    #calibrate gamma to 0-1\n",
    "    g = cv2.getTrackbarPos('gamma','Control Panel')\n",
    "    g = g/100\n",
    "    pencil_img = pencil_sketch(image,k,g)    \n",
    "\n",
    "    \n",
    "    cv2.imshow('original',image)\n",
    "    cv2.imshow('pencil sketch',pencil_img)\n",
    "    if cv2.waitKey(1) == 27:\n",
    "        break\n",
    "cv2.destroyAllWindows()"
   ]
  },
  {
   "cell_type": "code",
   "execution_count": null,
   "id": "4b6eaf4a-a293-4b62-871b-60fbb4c971b4",
   "metadata": {},
   "outputs": [],
   "source": [
    "cv2.destroyAllWindows()"
   ]
  },
  {
   "cell_type": "code",
   "execution_count": null,
   "id": "aba08960-06de-4e13-b234-18df868e910a",
   "metadata": {},
   "outputs": [],
   "source": []
  },
  {
   "cell_type": "code",
   "execution_count": null,
   "id": "f6e833e4-02cd-4e53-a214-870b99d2b142",
   "metadata": {},
   "outputs": [],
   "source": []
  },
  {
   "cell_type": "code",
   "execution_count": null,
   "id": "12fcfc0e-0151-4787-8b08-70034a0cda30",
   "metadata": {},
   "outputs": [],
   "source": []
  },
  {
   "cell_type": "code",
   "execution_count": null,
   "id": "8d1676d2-eedf-40a6-8cc3-00d559ab45f9",
   "metadata": {},
   "outputs": [],
   "source": []
  },
  {
   "cell_type": "code",
   "execution_count": null,
   "id": "2057bb33-0c3f-47a6-a121-cf606974d230",
   "metadata": {},
   "outputs": [],
   "source": []
  },
  {
   "cell_type": "code",
   "execution_count": null,
   "id": "9fd8633c-5286-4778-a079-b8346747cf71",
   "metadata": {},
   "outputs": [],
   "source": []
  },
  {
   "cell_type": "code",
   "execution_count": null,
   "id": "45dc240d-df08-44c3-b0a9-afbdde18abf0",
   "metadata": {},
   "outputs": [],
   "source": []
  },
  {
   "cell_type": "code",
   "execution_count": null,
   "id": "b966f26c-9ee6-4c4d-be65-e373f177073c",
   "metadata": {},
   "outputs": [],
   "source": []
  },
  {
   "cell_type": "code",
   "execution_count": null,
   "id": "de91580e-364e-46a4-b68c-786679d0d404",
   "metadata": {},
   "outputs": [],
   "source": []
  },
  {
   "cell_type": "code",
   "execution_count": null,
   "id": "803fbea7-220b-4b21-89a4-9c7d7d5dc8de",
   "metadata": {},
   "outputs": [],
   "source": []
  },
  {
   "cell_type": "code",
   "execution_count": null,
   "id": "0fe9a94b-31ad-405b-bb80-7bbabdf197ae",
   "metadata": {},
   "outputs": [],
   "source": []
  },
  {
   "cell_type": "code",
   "execution_count": null,
   "id": "ce960123-9943-47af-a74b-b4e189c59010",
   "metadata": {},
   "outputs": [],
   "source": []
  },
  {
   "cell_type": "code",
   "execution_count": null,
   "id": "d3a2a828-e063-41bc-bebd-1f76ecce5a45",
   "metadata": {},
   "outputs": [],
   "source": []
  },
  {
   "cell_type": "code",
   "execution_count": null,
   "id": "182216b8-b6a0-41d0-b5e2-bdaa7c8f212c",
   "metadata": {},
   "outputs": [],
   "source": []
  },
  {
   "cell_type": "code",
   "execution_count": null,
   "id": "761576ff-3f57-4534-8785-989d249424b9",
   "metadata": {},
   "outputs": [],
   "source": []
  },
  {
   "cell_type": "code",
   "execution_count": null,
   "id": "5aab7117-7918-4adc-919c-4c7e66121f55",
   "metadata": {},
   "outputs": [],
   "source": []
  },
  {
   "cell_type": "code",
   "execution_count": null,
   "id": "741917f9-e8c8-43c4-8477-58c20aa622a7",
   "metadata": {},
   "outputs": [],
   "source": []
  },
  {
   "cell_type": "code",
   "execution_count": null,
   "id": "0d7bfccf-9417-477a-ab76-3d51ac2e6c66",
   "metadata": {},
   "outputs": [],
   "source": []
  },
  {
   "cell_type": "code",
   "execution_count": null,
   "id": "536042a6-7f37-4495-b28a-185e0e11a18e",
   "metadata": {},
   "outputs": [],
   "source": []
  },
  {
   "cell_type": "code",
   "execution_count": null,
   "id": "e8d7d355-b3d2-4310-8bd7-2149e0dee2dc",
   "metadata": {},
   "outputs": [],
   "source": [
    " "
   ]
  },
  {
   "cell_type": "code",
   "execution_count": null,
   "id": "7b5d4752-78b5-4671-b462-b00342ba44b7",
   "metadata": {},
   "outputs": [],
   "source": []
  },
  {
   "cell_type": "code",
   "execution_count": null,
   "id": "2f7380d9-e80c-4803-9c04-56d7ed9df4f0",
   "metadata": {},
   "outputs": [],
   "source": []
  },
  {
   "cell_type": "code",
   "execution_count": null,
   "id": "2cb1d47c-6863-4c1a-b8ff-65245df778d2",
   "metadata": {},
   "outputs": [],
   "source": []
  },
  {
   "cell_type": "code",
   "execution_count": null,
   "id": "cf696ba4-306d-4424-b238-1041be5553ea",
   "metadata": {},
   "outputs": [],
   "source": []
  },
  {
   "cell_type": "code",
   "execution_count": null,
   "id": "ce62ca3e-49fe-4add-ad4a-fa6bdf1e19fd",
   "metadata": {},
   "outputs": [],
   "source": []
  },
  {
   "cell_type": "code",
   "execution_count": null,
   "id": "b1793e55-5f59-4d7a-a81f-64f3661f2653",
   "metadata": {},
   "outputs": [],
   "source": []
  },
  {
   "cell_type": "code",
   "execution_count": null,
   "id": "6f35a34b-7689-496a-b946-6b6d8f03140a",
   "metadata": {},
   "outputs": [],
   "source": []
  },
  {
   "cell_type": "code",
   "execution_count": null,
   "id": "91a6c0cd-9979-466b-befa-caf595dda7b2",
   "metadata": {},
   "outputs": [],
   "source": []
  },
  {
   "cell_type": "code",
   "execution_count": null,
   "id": "5acae027-a2af-48a0-8d2d-07c21d7af34d",
   "metadata": {},
   "outputs": [],
   "source": []
  },
  {
   "cell_type": "code",
   "execution_count": null,
   "id": "2cef64fd-9b97-49ed-9bcf-ebfde4a86ee7",
   "metadata": {},
   "outputs": [],
   "source": []
  },
  {
   "cell_type": "code",
   "execution_count": null,
   "id": "13b54c22-fcba-4566-a49f-f3976006afb3",
   "metadata": {},
   "outputs": [],
   "source": []
  },
  {
   "cell_type": "code",
   "execution_count": null,
   "id": "97074ead-c079-4853-bd94-9824f6b1dbf5",
   "metadata": {},
   "outputs": [],
   "source": []
  }
 ],
 "metadata": {
  "kernelspec": {
   "display_name": "Python 3 (ipykernel)",
   "language": "python",
   "name": "python3"
  },
  "language_info": {
   "codemirror_mode": {
    "name": "ipython",
    "version": 3
   },
   "file_extension": ".py",
   "mimetype": "text/x-python",
   "name": "python",
   "nbconvert_exporter": "python",
   "pygments_lexer": "ipython3",
   "version": "3.12.0"
  }
 },
 "nbformat": 4,
 "nbformat_minor": 5
}
