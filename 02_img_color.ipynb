{
 "cells": [
  {
   "cell_type": "code",
   "execution_count": 2,
   "id": "fdbcbdb0-3de9-4188-9a52-47013075bd0b",
   "metadata": {},
   "outputs": [],
   "source": [
    "import cv2\n",
    "import numpy as np"
   ]
  },
  {
   "cell_type": "code",
   "execution_count": 3,
   "id": "db6880b3-35c3-4a5b-8f54-9520deb90124",
   "metadata": {},
   "outputs": [],
   "source": [
    "img = cv2.imread('./m1/flemingo.jpg')"
   ]
  },
  {
   "cell_type": "code",
   "execution_count": 4,
   "id": "1ed85fcb-0ccf-4106-86e1-e09b023ce729",
   "metadata": {},
   "outputs": [
    {
     "data": {
      "text/plain": [
       "array([[[151, 130, 115],\n",
       "        [151, 130, 115],\n",
       "        [151, 130, 115],\n",
       "        ...,\n",
       "        [151, 130, 115],\n",
       "        [151, 130, 115],\n",
       "        [151, 130, 115]],\n",
       "\n",
       "       [[151, 130, 115],\n",
       "        [151, 130, 115],\n",
       "        [151, 130, 115],\n",
       "        ...,\n",
       "        [151, 130, 115],\n",
       "        [151, 130, 115],\n",
       "        [151, 130, 115]],\n",
       "\n",
       "       [[151, 130, 115],\n",
       "        [151, 130, 115],\n",
       "        [151, 130, 115],\n",
       "        ...,\n",
       "        [151, 130, 115],\n",
       "        [151, 130, 115],\n",
       "        [151, 130, 115]],\n",
       "\n",
       "       ...,\n",
       "\n",
       "       [[120,  94,  77],\n",
       "        [120,  94,  77],\n",
       "        [120,  94,  77],\n",
       "        ...,\n",
       "        [114,  90,  72],\n",
       "        [114,  90,  72],\n",
       "        [118,  94,  76]],\n",
       "\n",
       "       [[120,  94,  77],\n",
       "        [120,  94,  77],\n",
       "        [120,  94,  77],\n",
       "        ...,\n",
       "        [110,  86,  68],\n",
       "        [110,  86,  68],\n",
       "        [117,  93,  75]],\n",
       "\n",
       "       [[120,  94,  77],\n",
       "        [120,  94,  77],\n",
       "        [120,  94,  77],\n",
       "        ...,\n",
       "        [107,  83,  65],\n",
       "        [107,  83,  65],\n",
       "        [116,  92,  74]]], dtype=uint8)"
      ]
     },
     "execution_count": 4,
     "metadata": {},
     "output_type": "execute_result"
    }
   ],
   "source": [
    "img"
   ]
  },
  {
   "cell_type": "code",
   "execution_count": 5,
   "id": "e5788041-2214-4494-8f09-c07edf2f1253",
   "metadata": {},
   "outputs": [],
   "source": [
    "b,g,r = cv2.split(img)"
   ]
  },
  {
   "cell_type": "code",
   "execution_count": 15,
   "id": "b7430c8a-6f81-4a7b-8cb9-8248ce9d80fc",
   "metadata": {},
   "outputs": [
    {
     "data": {
      "text/plain": [
       "array([[151, 151, 151, ..., 151, 151, 151],\n",
       "       [151, 151, 151, ..., 151, 151, 151],\n",
       "       [151, 151, 151, ..., 151, 151, 151],\n",
       "       ...,\n",
       "       [120, 120, 120, ..., 114, 114, 118],\n",
       "       [120, 120, 120, ..., 110, 110, 117],\n",
       "       [120, 120, 120, ..., 107, 107, 116]], dtype=uint8)"
      ]
     },
     "execution_count": 15,
     "metadata": {},
     "output_type": "execute_result"
    }
   ],
   "source": [
    "b"
   ]
  },
  {
   "cell_type": "code",
   "execution_count": 16,
   "id": "40fd4cb7-62ca-49b2-a886-e978439d8dd6",
   "metadata": {},
   "outputs": [
    {
     "data": {
      "text/plain": [
       "array([[130, 130, 130, ..., 130, 130, 130],\n",
       "       [130, 130, 130, ..., 130, 130, 130],\n",
       "       [130, 130, 130, ..., 130, 130, 130],\n",
       "       ...,\n",
       "       [ 94,  94,  94, ...,  90,  90,  94],\n",
       "       [ 94,  94,  94, ...,  86,  86,  93],\n",
       "       [ 94,  94,  94, ...,  83,  83,  92]], dtype=uint8)"
      ]
     },
     "execution_count": 16,
     "metadata": {},
     "output_type": "execute_result"
    }
   ],
   "source": [
    "g"
   ]
  },
  {
   "cell_type": "code",
   "execution_count": 17,
   "id": "9a7668a0-b85a-40e9-b589-8b2ca923afd7",
   "metadata": {},
   "outputs": [
    {
     "data": {
      "text/plain": [
       "array([[115, 115, 115, ..., 115, 115, 115],\n",
       "       [115, 115, 115, ..., 115, 115, 115],\n",
       "       [115, 115, 115, ..., 115, 115, 115],\n",
       "       ...,\n",
       "       [ 77,  77,  77, ...,  72,  72,  76],\n",
       "       [ 77,  77,  77, ...,  68,  68,  75],\n",
       "       [ 77,  77,  77, ...,  65,  65,  74]], dtype=uint8)"
      ]
     },
     "execution_count": 17,
     "metadata": {},
     "output_type": "execute_result"
    }
   ],
   "source": [
    "r"
   ]
  },
  {
   "cell_type": "code",
   "execution_count": 18,
   "id": "69d969d3-c08c-4141-a3d1-94395ce91808",
   "metadata": {},
   "outputs": [
    {
     "data": {
      "text/plain": [
       "(254, 198, 3)"
      ]
     },
     "execution_count": 18,
     "metadata": {},
     "output_type": "execute_result"
    }
   ],
   "source": [
    "img.shape"
   ]
  },
  {
   "cell_type": "markdown",
   "id": "83cf61dc-9e81-4fe9-aad1-472ed21bff3a",
   "metadata": {},
   "source": [
    "Display each color image seperately"
   ]
  },
  {
   "cell_type": "code",
   "execution_count": 14,
   "id": "4ba85abd-0909-4c94-802b-50b9cc97e90c",
   "metadata": {},
   "outputs": [],
   "source": [
    "cv2.imshow('image',img)\n",
    "cv2.imshow('blue',b)\n",
    "cv2.imshow('green',g)\n",
    "cv2.imshow('red',r)\n",
    "cv2.waitKey(0)\n",
    "cv2.destroyAllWindows()"
   ]
  },
  {
   "cell_type": "raw",
   "id": "a7b3a8b7-4ead-4b36-b9ee-64c33482c45c",
   "metadata": {},
   "source": [
    "color squence change from bgr to rgb"
   ]
  },
  {
   "cell_type": "code",
   "execution_count": 15,
   "id": "5c1f2557-5610-486b-998a-2ea73ff9fb75",
   "metadata": {},
   "outputs": [],
   "source": [
    "img_bgr=cv2.cvtColor(img,cv2.COLOR_BGR2RGB)"
   ]
  },
  {
   "cell_type": "code",
   "execution_count": 16,
   "id": "2f7f7060-737d-4c9b-a903-8e41ab02873e",
   "metadata": {},
   "outputs": [],
   "source": [
    "gray = cv2.cvtColor(img,cv2.COLOR_BGR2GRAY)"
   ]
  },
  {
   "cell_type": "code",
   "execution_count": 17,
   "id": "a7e776d9-289c-4fc6-a68a-b29b554ce973",
   "metadata": {},
   "outputs": [],
   "source": [
    "cv2.imshow('color_bgr', img)\n",
    "cv2.imshow('color_rgb',img_bgr)\n",
    "cv2.imshow('gray',gray)\n",
    "cv2.waitKey(0)\n",
    "cv2.destroyAllWindows()"
   ]
  },
  {
   "cell_type": "code",
   "execution_count": 18,
   "id": "8bbf9edd-6294-4d8c-a21e-be1bcbff49ad",
   "metadata": {},
   "outputs": [
    {
     "data": {
      "text/plain": [
       "True"
      ]
     },
     "execution_count": 18,
     "metadata": {},
     "output_type": "execute_result"
    }
   ],
   "source": [
    "#save image \n",
    "cv2.imwrite('gray.png',gray)"
   ]
  },
  {
   "cell_type": "code",
   "execution_count": 20,
   "id": "9a79ba25-be44-49cb-b2f6-e13edeecac6b",
   "metadata": {},
   "outputs": [
    {
     "data": {
      "text/plain": [
       "True"
      ]
     },
     "execution_count": 20,
     "metadata": {},
     "output_type": "execute_result"
    }
   ],
   "source": [
    "cv2.imwrite('color_rgb.png',img_bgr)"
   ]
  },
  {
   "cell_type": "code",
   "execution_count": null,
   "id": "bbe2a1ae-94e8-45a2-b740-f2c5dc762131",
   "metadata": {},
   "outputs": [],
   "source": []
  },
  {
   "cell_type": "code",
   "execution_count": null,
   "id": "d81b0a94-a03c-4fdc-9596-143062c2447f",
   "metadata": {},
   "outputs": [],
   "source": []
  },
  {
   "cell_type": "code",
   "execution_count": null,
   "id": "90d452cc-03dd-4cef-bb0d-e7b03bde770a",
   "metadata": {},
   "outputs": [],
   "source": []
  },
  {
   "cell_type": "code",
   "execution_count": null,
   "id": "2d90c232-15ca-4570-8732-bcee85e12929",
   "metadata": {},
   "outputs": [],
   "source": []
  },
  {
   "cell_type": "code",
   "execution_count": null,
   "id": "e1ec36e1-17e7-48c1-bf7e-a55363062fdb",
   "metadata": {},
   "outputs": [],
   "source": []
  },
  {
   "cell_type": "code",
   "execution_count": null,
   "id": "01095c85-f585-4357-9316-9a607c1c5a78",
   "metadata": {},
   "outputs": [],
   "source": []
  }
 ],
 "metadata": {
  "kernelspec": {
   "display_name": "Python 3 (ipykernel)",
   "language": "python",
   "name": "python3"
  },
  "language_info": {
   "codemirror_mode": {
    "name": "ipython",
    "version": 3
   },
   "file_extension": ".py",
   "mimetype": "text/x-python",
   "name": "python",
   "nbconvert_exporter": "python",
   "pygments_lexer": "ipython3",
   "version": "3.12.0"
  }
 },
 "nbformat": 4,
 "nbformat_minor": 5
}
