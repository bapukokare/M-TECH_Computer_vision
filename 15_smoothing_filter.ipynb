{
 "cells": [
  {
   "cell_type": "code",
   "execution_count": 1,
   "id": "606639e2-83c6-4d24-aaa9-aad70eb02655",
   "metadata": {},
   "outputs": [],
   "source": [
    "import numpy as np\n",
    "import cv2"
   ]
  },
  {
   "cell_type": "code",
   "execution_count": 2,
   "id": "22c29461-e8d0-4075-927f-d5570c0e3e2b",
   "metadata": {},
   "outputs": [],
   "source": [
    "img = cv2.imread('./m1/beach.jpg')\n",
    "\n",
    "cv2.imshow('beach',img)\n",
    "cv2.waitKey(0)\n",
    "cv2.destroyAllWindows()"
   ]
  },
  {
   "cell_type": "code",
   "execution_count": 40,
   "id": "e44e6dab-1203-481c-8b5f-af1e56880834",
   "metadata": {},
   "outputs": [],
   "source": [
    "#Average_blur"
   ]
  },
  {
   "cell_type": "code",
   "execution_count": 3,
   "id": "9d841220-e677-481f-a8b8-3dc08b2d6640",
   "metadata": {},
   "outputs": [],
   "source": [
    "blur_avg3 = cv2.blur(img,(3,3))\n",
    "blur_avg5 = cv2.blur(img,(5,5))\n",
    "blur_avg7 = cv2.blur(img,(7,7))\n",
    "blur_avg9 = cv2.blur(img,(9,9))"
   ]
  },
  {
   "cell_type": "code",
   "execution_count": 4,
   "id": "3814b0e8-4d6b-4bb5-b7a7-ad6586ef169d",
   "metadata": {},
   "outputs": [],
   "source": [
    "cv2.imshow('original',img)\n",
    "cv2.imshow('blur 3', blur_avg3)\n",
    "cv2.imshow('blur 5', blur_avg5)\n",
    "cv2.imshow('blur 7', blur_avg7)\n",
    "cv2.imshow('b;ur 9', blur_avg9)\n",
    "\n",
    "cv2.waitKey(0)\n",
    "cv2.destroyAllWindows()"
   ]
  },
  {
   "cell_type": "code",
   "execution_count": 5,
   "id": "dffa5f16-b095-49e3-9661-77abea2375a7",
   "metadata": {},
   "outputs": [],
   "source": [
    "#GAUSIAN BLUR"
   ]
  },
  {
   "cell_type": "code",
   "execution_count": 7,
   "id": "bff08446-3b90-455c-8d60-ac76aaf74590",
   "metadata": {},
   "outputs": [],
   "source": [
    "blur_gauss_3 = cv2.GaussianBlur(img,(3,3),0)\n",
    "blur_gauss_5 = cv2.GaussianBlur(img,(5,5),0)\n",
    "blur_gauss_7 = cv2.GaussianBlur(img,(7,7),0)\n"
   ]
  },
  {
   "cell_type": "code",
   "execution_count": 10,
   "id": "edbdda64-1b9f-4dd8-b780-50d88f6f4cbc",
   "metadata": {},
   "outputs": [],
   "source": [
    "cv2.imshow('original',img)\n",
    "cv2.imshow('blur 3',blur_gauss_3)\n",
    "cv2.imshow('blur 5', blur_gauss_5)\n",
    "cv2.imshow('blur 7',blur_gauss_7)\n",
    "\n",
    "cv2.waitKey(0)\n",
    "cv2.destroyAllWindows()\n",
    "\n"
   ]
  },
  {
   "cell_type": "code",
   "execution_count": 11,
   "id": "c0d720c7-2168-46e9-ac64-66516d76daa2",
   "metadata": {},
   "outputs": [],
   "source": [
    "#median Blur"
   ]
  },
  {
   "cell_type": "code",
   "execution_count": 12,
   "id": "505bfb38-cd78-49ce-97de-255654482669",
   "metadata": {},
   "outputs": [],
   "source": [
    "sp = cv2.imread('./m1/sp_noise.jpg')\n",
    "\n",
    "cv2.imshow('salt paper',sp)\n",
    "cv2.waitKey(0)\n",
    "cv2.destroyAllWindows()\n"
   ]
  },
  {
   "cell_type": "code",
   "execution_count": 13,
   "id": "87850b0b-9aa0-46af-be9a-1fa82d5302d9",
   "metadata": {},
   "outputs": [],
   "source": [
    "blur_median_3 =cv2.medianBlur(sp,3)\n"
   ]
  },
  {
   "cell_type": "code",
   "execution_count": 14,
   "id": "15dc7ef0-60f1-42a0-bb23-1b52f683d6c4",
   "metadata": {},
   "outputs": [],
   "source": [
    "cv2.imshow('original',sp)\n",
    "cv2.imshow('median blur',blur_median_3)\n",
    "\n",
    "cv2.waitKey(0)\n",
    "cv2.destroyAllWindows()"
   ]
  },
  {
   "cell_type": "code",
   "execution_count": 16,
   "id": "5d587748-7805-4c46-9037-7525f3bcd009",
   "metadata": {},
   "outputs": [],
   "source": [
    "blur_median_5 =cv2.medianBlur(sp,5)\n",
    "blur_median_7 =cv2.medianBlur(sp,7)\n"
   ]
  },
  {
   "cell_type": "code",
   "execution_count": null,
   "id": "06a9ecc0-cd9d-4e87-a2ac-546a0721565e",
   "metadata": {},
   "outputs": [],
   "source": []
  },
  {
   "cell_type": "code",
   "execution_count": 18,
   "id": "49135d65-c475-457a-8dc2-0d762f10b66d",
   "metadata": {},
   "outputs": [],
   "source": [
    "cv2.imshow('original',sp)\n",
    "cv2.imshow('median blur 3',blur_median_3)\n",
    "cv2.imshow('median blur 5',blur_median_5)\n",
    "cv2.imshow('median blur 7',blur_median_7)\n",
    "\n",
    "cv2.waitKey(0)\n",
    "cv2.destroyAllWindows()"
   ]
  },
  {
   "cell_type": "code",
   "execution_count": null,
   "id": "288af035-b370-4590-a040-8ac24e88bfc0",
   "metadata": {},
   "outputs": [],
   "source": []
  },
  {
   "cell_type": "code",
   "execution_count": null,
   "id": "8e6fb451-1892-4ede-a6ec-54124958056e",
   "metadata": {},
   "outputs": [],
   "source": []
  },
  {
   "cell_type": "code",
   "execution_count": null,
   "id": "8c005761-77e8-42ff-b270-92a7564e50c1",
   "metadata": {},
   "outputs": [],
   "source": []
  },
  {
   "cell_type": "code",
   "execution_count": null,
   "id": "e06d6252-5fee-4cc0-88df-fb39f9cfa4a6",
   "metadata": {},
   "outputs": [],
   "source": []
  },
  {
   "cell_type": "code",
   "execution_count": null,
   "id": "99dedd34-0cb6-4e1d-b17b-4581f4e7eb90",
   "metadata": {},
   "outputs": [],
   "source": []
  },
  {
   "cell_type": "code",
   "execution_count": null,
   "id": "f262909a-5a8a-4888-b0b7-27243fa5a5cd",
   "metadata": {},
   "outputs": [],
   "source": []
  },
  {
   "cell_type": "code",
   "execution_count": null,
   "id": "38bcf357-b2a3-488f-ae52-5784515b819e",
   "metadata": {},
   "outputs": [],
   "source": []
  },
  {
   "cell_type": "code",
   "execution_count": null,
   "id": "be9035fb-cb01-4a53-a1c1-7b70ef3fd5b1",
   "metadata": {},
   "outputs": [],
   "source": []
  }
 ],
 "metadata": {
  "kernelspec": {
   "display_name": "Python 3 (ipykernel)",
   "language": "python",
   "name": "python3"
  },
  "language_info": {
   "codemirror_mode": {
    "name": "ipython",
    "version": 3
   },
   "file_extension": ".py",
   "mimetype": "text/x-python",
   "name": "python",
   "nbconvert_exporter": "python",
   "pygments_lexer": "ipython3",
   "version": "3.12.0"
  }
 },
 "nbformat": 4,
 "nbformat_minor": 5
}
