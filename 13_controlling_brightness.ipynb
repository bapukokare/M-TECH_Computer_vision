{
 "cells": [
  {
   "cell_type": "code",
   "execution_count": 4,
   "id": "b657c576-f617-451d-9479-bf75ebad2d5c",
   "metadata": {},
   "outputs": [],
   "source": [
    "import numpy as np\n",
    "import cv2"
   ]
  },
  {
   "cell_type": "code",
   "execution_count": 12,
   "id": "c9066239-c453-4e58-9c7c-b754db6ebfb3",
   "metadata": {},
   "outputs": [],
   "source": [
    "img = cv2.imread('./m1/car.jpg')\n",
    "cv2.imshow('car',img)\n",
    "cv2.waitKey(0)\n",
    "cv2.destroyAllWindows()"
   ]
  },
  {
   "cell_type": "code",
   "execution_count": null,
   "id": "85533df1-6bc8-42d8-924f-3ca6d9b24468",
   "metadata": {},
   "outputs": [],
   "source": []
  },
  {
   "cell_type": "code",
   "execution_count": null,
   "id": "925a38ab-181b-4a27-aa06-4f040966d155",
   "metadata": {},
   "outputs": [],
   "source": []
  },
  {
   "cell_type": "code",
   "execution_count": 13,
   "id": "05ca17f0-bf46-4032-9a6d-3eb9d66cd48f",
   "metadata": {},
   "outputs": [],
   "source": [
    "def nothing(x):\n",
    "    pass\n",
    "\n",
    "cv2.namedWindow('Brightness Control')\n",
    "bright = cv2.createTrackbar('Brightness','Brightness Control',75,255,nothing)\n",
    "value = np.ones_like(img,dtype='uint8')\n",
    "\n",
    "\n",
    "while True:\n",
    "    bright = cv2.getTrackbarPos('Brightness','Brightness Control')\n",
    "    bar = bright - 127\n",
    "    \n",
    "    if bar >=0:\n",
    "        value = np.ones_like(img,dtype='uint8')*bar\n",
    "        img_ctrl = cv2.add(img,value)        \n",
    "    else:\n",
    "        bright = 127 - bright\n",
    "        value = np.ones_like(img,dtype='uint8')*bright\n",
    "        img_ctrl = cv2.subtract(img,value)\n",
    "\n",
    "        \n",
    "    cv2.imshow('Brightness Control',img_ctrl)\n",
    "    \n",
    "    if cv2.waitKey(1) == 27: # esc button\n",
    "        break\n",
    "        \n",
    "        \n",
    "cv2.destroyAllWindows()"
   ]
  },
  {
   "cell_type": "code",
   "execution_count": 8,
   "id": "8c0d9690-26dd-4279-82a5-d21b45c8771b",
   "metadata": {},
   "outputs": [],
   "source": [
    "#realtime bright control  "
   ]
  },
  {
   "cell_type": "code",
   "execution_count": 9,
   "id": "e44b37d2-1b35-4f42-ae2b-caf5bff7b8ff",
   "metadata": {},
   "outputs": [],
   "source": [
    "def brightness_ctrl(image,bright):\n",
    "    bar = bright - 127\n",
    "    \n",
    "    if bar >=0:\n",
    "        value = np.ones_like(image,dtype='uint8')*bar\n",
    "        img_ctrl = cv2.add(image,value)\n",
    "        \n",
    "    else:\n",
    "        bright = 127 - bright\n",
    "        value = np.ones_like(image,dtype='uint8')*bright\n",
    "        img_ctrl = cv2.subtract(image,value)\n",
    "        \n",
    "    return img_ctrl"
   ]
  },
  {
   "cell_type": "code",
   "execution_count": 11,
   "id": "975fa8a4-4c8b-467a-99da-a6e4d4701aef",
   "metadata": {},
   "outputs": [],
   "source": [
    "cap = cv2.VideoCapture('./m1/clip.mp4')\n",
    "cv2.namedWindow('Brightness Control')\n",
    "bright = cv2.createTrackbar('Brightness','Brightness Control',75,255,nothing)\n",
    "value = np.ones_like(img,dtype='uint8')\n",
    "\n",
    "while True:\n",
    "    ret, frame = cap.read()\n",
    "    if ret == False:\n",
    "        break\n",
    "        \n",
    "    bright = cv2.getTrackbarPos('Brightness','Brightness Control')\n",
    "    img_ctrl = brightness_ctrl(frame,bright)\n",
    "    \n",
    "    cv2.imshow('Brightness Control',img_ctrl)\n",
    "    if cv2.waitKey(20) == 27:\n",
    "        break\n",
    "        \n",
    "cv2.destroyAllWindows()\n",
    "cap.release()"
   ]
  },
  {
   "cell_type": "code",
   "execution_count": null,
   "id": "089e99fe-54c8-4b95-be28-1d0c92bd006c",
   "metadata": {},
   "outputs": [],
   "source": []
  },
  {
   "cell_type": "code",
   "execution_count": null,
   "id": "6a3d4dc2-5b0e-4cce-9310-ea5328cca5d1",
   "metadata": {},
   "outputs": [],
   "source": []
  },
  {
   "cell_type": "code",
   "execution_count": null,
   "id": "042a9570-5301-4962-b71a-27c20349e2f4",
   "metadata": {},
   "outputs": [],
   "source": []
  },
  {
   "cell_type": "code",
   "execution_count": null,
   "id": "8a7988f2-9604-4b06-abde-41390b3deb06",
   "metadata": {},
   "outputs": [],
   "source": []
  },
  {
   "cell_type": "code",
   "execution_count": null,
   "id": "283b3827-81e6-42e4-84b1-267b4951f8e4",
   "metadata": {},
   "outputs": [],
   "source": []
  },
  {
   "cell_type": "code",
   "execution_count": null,
   "id": "bf04fee8-cc4b-4b45-8f19-c29ec5ded59d",
   "metadata": {},
   "outputs": [],
   "source": []
  },
  {
   "cell_type": "code",
   "execution_count": null,
   "id": "0e915a96-3f1a-4efa-8e59-086fac82fa2f",
   "metadata": {},
   "outputs": [],
   "source": []
  },
  {
   "cell_type": "code",
   "execution_count": null,
   "id": "fb53a24c-30ae-4b70-a359-6e4720af7411",
   "metadata": {},
   "outputs": [],
   "source": []
  }
 ],
 "metadata": {
  "kernelspec": {
   "display_name": "Python 3 (ipykernel)",
   "language": "python",
   "name": "python3"
  },
  "language_info": {
   "codemirror_mode": {
    "name": "ipython",
    "version": 3
   },
   "file_extension": ".py",
   "mimetype": "text/x-python",
   "name": "python",
   "nbconvert_exporter": "python",
   "pygments_lexer": "ipython3",
   "version": "3.12.0"
  }
 },
 "nbformat": 4,
 "nbformat_minor": 5
}
