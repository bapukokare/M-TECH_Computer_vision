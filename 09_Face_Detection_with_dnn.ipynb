{
 "cells": [
  {
   "cell_type": "code",
   "execution_count": 1,
   "id": "d43905ca-4699-42b4-b417-82df76f52739",
   "metadata": {},
   "outputs": [],
   "source": [
    "import numpy as np\n",
    "import cv2"
   ]
  },
  {
   "cell_type": "code",
   "execution_count": 2,
   "id": "1e2dfc8d-5605-4074-83c7-9f17434a434f",
   "metadata": {},
   "outputs": [],
   "source": [
    "img= cv2.imread('./faces.jpg')\n",
    "cv2.imshow('face',img)\n",
    "cv2.waitKey(0)\n",
    "cv2.destroyAllWindows()"
   ]
  },
  {
   "cell_type": "code",
   "execution_count": 2,
   "id": "a8a9a729-e811-4d7d-8893-cb8104b608af",
   "metadata": {},
   "outputs": [],
   "source": [
    "face_detection_model = cv2.dnn.readNetFromCaffe('./model/deploy.prototxt.txt','./model/res10_300x300_ssd_iter_140000_fp16.caffemodel')"
   ]
  },
  {
   "cell_type": "code",
   "execution_count": 5,
   "id": "a9afe169-0459-4946-b5c3-cdf1fb6e57a3",
   "metadata": {},
   "outputs": [],
   "source": [
    "#step1- extract blob from image\n",
    "blob = cv2.dnn.blobFromImage(img,1,(300,300),(104,177,123),swapRB=True)"
   ]
  },
  {
   "cell_type": "code",
   "execution_count": 6,
   "id": "8dc02fc9-61ec-4218-84e3-f3c8f7093e9a",
   "metadata": {},
   "outputs": [],
   "source": [
    "#step2:set blob as inpu\n",
    "\n",
    "face_detection_model.setInput(blob)\n",
    "\n",
    "#step3: get the output\n",
    "detection= face_detection_model.forward()"
   ]
  },
  {
   "cell_type": "code",
   "execution_count": 20,
   "id": "860d32f0-e361-40f1-9453-ab77a63d4066",
   "metadata": {},
   "outputs": [
    {
     "data": {
      "text/plain": [
       "array([[[[0.        , 1.        , 0.99828076, ..., 0.13435304,\n",
       "          0.37747657, 0.6368804 ],\n",
       "         [0.        , 1.        , 0.93064046, ..., 0.1735116 ,\n",
       "          0.66801995, 0.6749054 ],\n",
       "         [0.        , 1.        , 0.6649137 , ..., 0.14685202,\n",
       "          0.9633989 , 0.5360529 ],\n",
       "         ...,\n",
       "         [0.        , 0.        , 0.        , ..., 0.        ,\n",
       "          0.        , 0.        ],\n",
       "         [0.        , 0.        , 0.        , ..., 0.        ,\n",
       "          0.        , 0.        ],\n",
       "         [0.        , 0.        , 0.        , ..., 0.        ,\n",
       "          0.        , 0.        ]]]], dtype=float32)"
      ]
     },
     "execution_count": 20,
     "metadata": {},
     "output_type": "execute_result"
    }
   ],
   "source": [
    "detection"
   ]
  },
  {
   "cell_type": "code",
   "execution_count": 7,
   "id": "3d96807b-3444-42f3-8922-5f8bd1d8e913",
   "metadata": {},
   "outputs": [
    {
     "data": {
      "text/plain": [
       "(1, 1, 200, 7)"
      ]
     },
     "execution_count": 7,
     "metadata": {},
     "output_type": "execute_result"
    }
   ],
   "source": [
    "detection.shape"
   ]
  },
  {
   "cell_type": "code",
   "execution_count": 8,
   "id": "403bc9c1-7d7b-4e41-bc68-2669c15c2901",
   "metadata": {},
   "outputs": [],
   "source": [
    "# above output meaning\n",
    "# 200-> faces detection, 7: 0=image number, 1: binary(0/1), 2: confidence score(0,1)\n",
    "# 3: start c, 4: start y, 5: End x, 6:end y"
   ]
  },
  {
   "cell_type": "code",
   "execution_count": 9,
   "id": "5c6225d3-ed45-40a1-a524-f0a98e194c7b",
   "metadata": {},
   "outputs": [
    {
     "data": {
      "text/plain": [
       "array([0.99828076, 0.93064046, 0.6649137 , 0.11303056, 0.0990653 ,\n",
       "       0.09581406, 0.09539089, 0.09210994, 0.09148148, 0.09004118,\n",
       "       0.08952259, 0.08925451, 0.08845698, 0.08835823, 0.08817662,\n",
       "       0.08785022, 0.08761989, 0.08759253, 0.08733165, 0.08644598,\n",
       "       0.08633807, 0.08580607, 0.08571839, 0.08569968, 0.08565523,\n",
       "       0.08561651, 0.08543262, 0.08516434, 0.08498948, 0.0849054 ,\n",
       "       0.08472105, 0.08466661, 0.08451295, 0.08432195, 0.08402866,\n",
       "       0.08339363, 0.08325934, 0.08319435, 0.08300184, 0.08287057,\n",
       "       0.08281695, 0.0828022 , 0.08230657, 0.0820657 , 0.08128531,\n",
       "       0.08119456, 0.08109774, 0.08107881, 0.08065075, 0.08063322,\n",
       "       0.08060357, 0.08035444, 0.0802448 , 0.07988586, 0.07988258,\n",
       "       0.07974191, 0.07961009, 0.07956649, 0.07941596, 0.07937436,\n",
       "       0.0793445 , 0.07927639, 0.07913707, 0.07913006, 0.0790798 ,\n",
       "       0.07904801, 0.07900919, 0.07894584, 0.07892097, 0.07890497,\n",
       "       0.07888509, 0.0788686 , 0.07882136, 0.07861339, 0.07850467,\n",
       "       0.07844832, 0.07844094, 0.07843614, 0.07838354, 0.0783501 ,\n",
       "       0.07828934, 0.07815128, 0.078123  , 0.07810944, 0.        ,\n",
       "       0.        , 0.        , 0.        , 0.        , 0.        ,\n",
       "       0.        , 0.        , 0.        , 0.        , 0.        ,\n",
       "       0.        , 0.        , 0.        , 0.        , 0.        ,\n",
       "       0.        , 0.        , 0.        , 0.        , 0.        ,\n",
       "       0.        , 0.        , 0.        , 0.        , 0.        ,\n",
       "       0.        , 0.        , 0.        , 0.        , 0.        ,\n",
       "       0.        , 0.        , 0.        , 0.        , 0.        ,\n",
       "       0.        , 0.        , 0.        , 0.        , 0.        ,\n",
       "       0.        , 0.        , 0.        , 0.        , 0.        ,\n",
       "       0.        , 0.        , 0.        , 0.        , 0.        ,\n",
       "       0.        , 0.        , 0.        , 0.        , 0.        ,\n",
       "       0.        , 0.        , 0.        , 0.        , 0.        ,\n",
       "       0.        , 0.        , 0.        , 0.        , 0.        ,\n",
       "       0.        , 0.        , 0.        , 0.        , 0.        ,\n",
       "       0.        , 0.        , 0.        , 0.        , 0.        ,\n",
       "       0.        , 0.        , 0.        , 0.        , 0.        ,\n",
       "       0.        , 0.        , 0.        , 0.        , 0.        ,\n",
       "       0.        , 0.        , 0.        , 0.        , 0.        ,\n",
       "       0.        , 0.        , 0.        , 0.        , 0.        ,\n",
       "       0.        , 0.        , 0.        , 0.        , 0.        ,\n",
       "       0.        , 0.        , 0.        , 0.        , 0.        ,\n",
       "       0.        , 0.        , 0.        , 0.        , 0.        ,\n",
       "       0.        , 0.        , 0.        , 0.        , 0.        ],\n",
       "      dtype=float32)"
      ]
     },
     "execution_count": 9,
     "metadata": {},
     "output_type": "execute_result"
    }
   ],
   "source": [
    "detection[0,0,:,2]"
   ]
  },
  {
   "cell_type": "code",
   "execution_count": 10,
   "id": "1bb20e95-9f51-47a9-bd3d-9d527f9fc5e4",
   "metadata": {},
   "outputs": [
    {
     "name": "stdout",
     "output_type": "stream",
     "text": [
      "0.99828076\n",
      "[138  94 362 445]\n",
      "score:100\n",
      "0.93064046\n",
      "[406 121 641 472]\n",
      "score:93\n",
      "0.6649137\n",
      "[729 102 924 375]\n",
      "score:66\n"
     ]
    }
   ],
   "source": [
    "# step4 : drawingbounding box on the top of face detection\n",
    "image = img.copy()\n",
    "h,w = image.shape[:2]\n",
    "for i in range(0,detection.shape[2]):\n",
    "    confidence = detection[0,0,i,2]\n",
    "    #print(confidence)\n",
    "    if confidence > 0.5:\n",
    "        print(confidence)\n",
    "        # diagnonal point3:7 \n",
    "        box = detection[0,0,i,3:7]*np.array([w,h,w,h])\n",
    "        box = box.astype('int')\n",
    "        pt1 = (box[0],box[1])\n",
    "        pt2 = (box[2],box[3])\n",
    "        print(box)\n",
    "        # draw rectangle\n",
    "        cv2.rectangle(image,pt1,pt2,(0,255,0),1)\n",
    "\n",
    "        text = 'score:{:.0f}'.format(confidence*100)\n",
    "        print(text)\n",
    "        cv2.putText(image,text,pt1,cv2.FONT_HERSHEY_SIMPLEX,1,(255,255,255),2)\n",
    "\n",
    "cv2.imshow('face detection dnn',image)\n",
    "cv2.waitKey(0)\n",
    "cv2.destroyAllWindows()\n",
    "    \n"
   ]
  },
  {
   "cell_type": "code",
   "execution_count": 4,
   "id": "ce0cebce-eab3-4d51-9719-1d8db7f4a4ca",
   "metadata": {},
   "outputs": [
    {
     "ename": "NameError",
     "evalue": "name 'img' is not defined",
     "output_type": "error",
     "traceback": [
      "\u001b[1;31m---------------------------------------------------------------------------\u001b[0m",
      "\u001b[1;31mNameError\u001b[0m                                 Traceback (most recent call last)",
      "Cell \u001b[1;32mIn[4], line 25\u001b[0m\n\u001b[0;32m     23\u001b[0m             cv2\u001b[38;5;241m.\u001b[39mputText(image,text,pt1,cv2\u001b[38;5;241m.\u001b[39mFONT_HERSHEY_SIMPLEX,\u001b[38;5;241m1\u001b[39m,(\u001b[38;5;241m255\u001b[39m,\u001b[38;5;241m255\u001b[39m,\u001b[38;5;241m255\u001b[39m),\u001b[38;5;241m2\u001b[39m)\n\u001b[0;32m     24\u001b[0m     \u001b[38;5;28;01mreturn\u001b[39;00m image\n\u001b[1;32m---> 25\u001b[0m cv2\u001b[38;5;241m.\u001b[39mimshow(\u001b[38;5;124m'\u001b[39m\u001b[38;5;124mface detection dnn\u001b[39m\u001b[38;5;124m'\u001b[39m,\u001b[43mimg\u001b[49m)\n\u001b[0;32m     26\u001b[0m cv2\u001b[38;5;241m.\u001b[39mwaitKey(\u001b[38;5;241m0\u001b[39m)\n\u001b[0;32m     27\u001b[0m cv2\u001b[38;5;241m.\u001b[39mdestroyAllWindows()\n",
      "\u001b[1;31mNameError\u001b[0m: name 'img' is not defined"
     ]
    }
   ],
   "source": [
    "#create face detection function\n",
    "\n",
    "def face_detection_dnn(img):\n",
    "    \n",
    "    # step4 : drawingbounding box on the top of face detection\n",
    "    #image = img.copy()\n",
    "    h,w = image.shape[:2]\n",
    "    for i in range(0,detection.shape[2]):\n",
    "        confidence = detection[0,0,i,2]\n",
    "        #print(confidence)\n",
    "        if confidence > 0.5:\n",
    "            print(confidence)\n",
    "            # diagnonal point3:7 \n",
    "            box = detection[0,0,i,3:7]*np.array([w,h,w,h])\n",
    "            box = box.astype('int')\n",
    "            pt1 = (box[0],box[1])\n",
    "            pt2 = (box[2],box[3])\n",
    "            print(box)\n",
    "            # draw rectangle\n",
    "            cv2.rectangle(image,pt1,pt2,(0,255,0),1)\n",
    "    \n",
    "            text = 'score:{:.0f}'.format(confidence*100)\n",
    "            print(text)\n",
    "            cv2.putText(image,text,pt1,cv2.FONT_HERSHEY_SIMPLEX,1,(255,255,255),2)\n",
    "    return image\n",
    "cv2.imshow('face detection dnn',img)\n",
    "cv2.waitKey(0)\n",
    "cv2.destroyAllWindows()"
   ]
  },
  {
   "cell_type": "code",
   "execution_count": 5,
   "id": "e0dca636-fd09-4904-b682-dc9848387f02",
   "metadata": {},
   "outputs": [
    {
     "ename": "NameError",
     "evalue": "name 'image' is not defined",
     "output_type": "error",
     "traceback": [
      "\u001b[1;31m---------------------------------------------------------------------------\u001b[0m",
      "\u001b[1;31mNameError\u001b[0m                                 Traceback (most recent call last)",
      "Cell \u001b[1;32mIn[5], line 8\u001b[0m\n\u001b[0;32m      6\u001b[0m \u001b[38;5;28;01mif\u001b[39;00m ret\u001b[38;5;241m==\u001b[39m\u001b[38;5;28;01mFalse\u001b[39;00m:\n\u001b[0;32m      7\u001b[0m     \u001b[38;5;28;01mbreak\u001b[39;00m\n\u001b[1;32m----> 8\u001b[0m img_detection \u001b[38;5;241m=\u001b[39m \u001b[43mface_detection_dnn\u001b[49m\u001b[43m(\u001b[49m\u001b[43mframe\u001b[49m\u001b[43m)\u001b[49m\n\u001b[0;32m      9\u001b[0m cv2\u001b[38;5;241m.\u001b[39mimshow(\u001b[38;5;124m'\u001b[39m\u001b[38;5;124mreal time face detection with dnn\u001b[39m\u001b[38;5;124m'\u001b[39m, img_detection)\n\u001b[0;32m     10\u001b[0m \u001b[38;5;28;01mif\u001b[39;00m cv2\u001b[38;5;241m.\u001b[39mwaitKey(\u001b[38;5;241m1\u001b[39m) \u001b[38;5;241m==\u001b[39m\u001b[38;5;28mord\u001b[39m(\u001b[38;5;124m'\u001b[39m\u001b[38;5;124ma\u001b[39m\u001b[38;5;124m'\u001b[39m):\n",
      "Cell \u001b[1;32mIn[4], line 6\u001b[0m, in \u001b[0;36mface_detection_dnn\u001b[1;34m(img)\u001b[0m\n\u001b[0;32m      3\u001b[0m \u001b[38;5;28;01mdef\u001b[39;00m \u001b[38;5;21mface_detection_dnn\u001b[39m(img):\n\u001b[0;32m      4\u001b[0m     \u001b[38;5;66;03m# step4 : drawingbounding box on the top of face detection\u001b[39;00m\n\u001b[0;32m      5\u001b[0m     \u001b[38;5;66;03m#image = img.copy()\u001b[39;00m\n\u001b[1;32m----> 6\u001b[0m     h,w \u001b[38;5;241m=\u001b[39m \u001b[43mimage\u001b[49m\u001b[38;5;241m.\u001b[39mshape[:\u001b[38;5;241m2\u001b[39m]\n\u001b[0;32m      7\u001b[0m     \u001b[38;5;28;01mfor\u001b[39;00m i \u001b[38;5;129;01min\u001b[39;00m \u001b[38;5;28mrange\u001b[39m(\u001b[38;5;241m0\u001b[39m,detection\u001b[38;5;241m.\u001b[39mshape[\u001b[38;5;241m2\u001b[39m]):\n\u001b[0;32m      8\u001b[0m         confidence \u001b[38;5;241m=\u001b[39m detection[\u001b[38;5;241m0\u001b[39m,\u001b[38;5;241m0\u001b[39m,i,\u001b[38;5;241m2\u001b[39m]\n",
      "\u001b[1;31mNameError\u001b[0m: name 'image' is not defined"
     ]
    }
   ],
   "source": [
    "cap = cv2.VideoCapture(0)\n",
    "face_detection_model = cv2.dnn.readNetFromCaffe('./model/deploy.prototxt.txt',\n",
    "                                                './model/res10_300x300_ssd_iter_140000_fp16.caffemodel')\n",
    "while True:\n",
    "    ret,frame = cap.read()\n",
    "    if ret==False:\n",
    "        break\n",
    "    img_detection = face_detection_dnn(frame)\n",
    "    cv2.imshow('real time face detection with dnn', img_detection)\n",
    "    if cv2.waitKey(1) ==ord('a'):\n",
    "        break\n",
    "\n",
    "cap.release()\n",
    "cv2.waitKey(0)\n",
    "cv2.destroyAllWindows()\n"
   ]
  },
  {
   "cell_type": "code",
   "execution_count": null,
   "id": "8f87e229-cc42-444b-a6ba-ffeb31ee2e60",
   "metadata": {},
   "outputs": [],
   "source": []
  },
  {
   "cell_type": "code",
   "execution_count": null,
   "id": "a8ebbb97-3f87-4e38-a4ad-a1955f1cb3d4",
   "metadata": {},
   "outputs": [],
   "source": []
  },
  {
   "cell_type": "code",
   "execution_count": null,
   "id": "d5284c17-19ce-446b-9bb0-f1b4b1af4c67",
   "metadata": {},
   "outputs": [],
   "source": []
  },
  {
   "cell_type": "code",
   "execution_count": 13,
   "id": "1b7280d0-c457-458d-8982-8be28cc4a005",
   "metadata": {},
   "outputs": [
    {
     "name": "stdout",
     "output_type": "stream",
     "text": [
      "0.99828076\n",
      "[138  94 362 445]\n",
      "score:100\n",
      "0.93064046\n",
      "[406 121 641 472]\n",
      "score:93\n",
      "0.6649137\n",
      "[729 102 924 375]\n",
      "score:66\n"
     ]
    }
   ],
   "source": [
    "image_detect = face_detection_dnn(img)"
   ]
  },
  {
   "cell_type": "code",
   "execution_count": 14,
   "id": "95f62edc-6f3b-4d2f-b809-c3f1bf4b0d98",
   "metadata": {},
   "outputs": [],
   "source": [
    "cv2.imshow('face detection',image_detect)\n",
    "cv2.waitKey(0)\n",
    "cv2.destroyAllWindows()"
   ]
  },
  {
   "cell_type": "code",
   "execution_count": 16,
   "id": "6bf3e933-eff1-408f-bcda-8cf3aee98cd3",
   "metadata": {},
   "outputs": [],
   "source": [
    "#real time face detection\n"
   ]
  },
  {
   "cell_type": "code",
   "execution_count": 6,
   "id": "2edb1891-fb4c-4c9d-b809-284ddddcd399",
   "metadata": {},
   "outputs": [
    {
     "ename": "NameError",
     "evalue": "name 'image' is not defined",
     "output_type": "error",
     "traceback": [
      "\u001b[1;31m---------------------------------------------------------------------------\u001b[0m",
      "\u001b[1;31mNameError\u001b[0m                                 Traceback (most recent call last)",
      "Cell \u001b[1;32mIn[6], line 8\u001b[0m\n\u001b[0;32m      6\u001b[0m \u001b[38;5;28;01mif\u001b[39;00m ret\u001b[38;5;241m==\u001b[39m\u001b[38;5;28;01mFalse\u001b[39;00m:\n\u001b[0;32m      7\u001b[0m     \u001b[38;5;28;01mbreak\u001b[39;00m\n\u001b[1;32m----> 8\u001b[0m img_detection \u001b[38;5;241m=\u001b[39m \u001b[43mface_detection_dnn\u001b[49m\u001b[43m(\u001b[49m\u001b[43mframe\u001b[49m\u001b[43m)\u001b[49m\n\u001b[0;32m      9\u001b[0m cv2\u001b[38;5;241m.\u001b[39mimshow(\u001b[38;5;124m'\u001b[39m\u001b[38;5;124mreal time face detection with dnn\u001b[39m\u001b[38;5;124m'\u001b[39m, img_detection)\n\u001b[0;32m     10\u001b[0m \u001b[38;5;28;01mif\u001b[39;00m cv2\u001b[38;5;241m.\u001b[39mwaitKey(\u001b[38;5;241m1\u001b[39m) \u001b[38;5;241m==\u001b[39m \u001b[38;5;28mord\u001b[39m(\u001b[38;5;124m'\u001b[39m\u001b[38;5;124ma\u001b[39m\u001b[38;5;124m'\u001b[39m):\n",
      "Cell \u001b[1;32mIn[4], line 6\u001b[0m, in \u001b[0;36mface_detection_dnn\u001b[1;34m(img)\u001b[0m\n\u001b[0;32m      3\u001b[0m \u001b[38;5;28;01mdef\u001b[39;00m \u001b[38;5;21mface_detection_dnn\u001b[39m(img):\n\u001b[0;32m      4\u001b[0m     \u001b[38;5;66;03m# step4 : drawingbounding box on the top of face detection\u001b[39;00m\n\u001b[0;32m      5\u001b[0m     \u001b[38;5;66;03m#image = img.copy()\u001b[39;00m\n\u001b[1;32m----> 6\u001b[0m     h,w \u001b[38;5;241m=\u001b[39m \u001b[43mimage\u001b[49m\u001b[38;5;241m.\u001b[39mshape[:\u001b[38;5;241m2\u001b[39m]\n\u001b[0;32m      7\u001b[0m     \u001b[38;5;28;01mfor\u001b[39;00m i \u001b[38;5;129;01min\u001b[39;00m \u001b[38;5;28mrange\u001b[39m(\u001b[38;5;241m0\u001b[39m,detection\u001b[38;5;241m.\u001b[39mshape[\u001b[38;5;241m2\u001b[39m]):\n\u001b[0;32m      8\u001b[0m         confidence \u001b[38;5;241m=\u001b[39m detection[\u001b[38;5;241m0\u001b[39m,\u001b[38;5;241m0\u001b[39m,i,\u001b[38;5;241m2\u001b[39m]\n",
      "\u001b[1;31mNameError\u001b[0m: name 'image' is not defined"
     ]
    }
   ],
   "source": [
    "cap = cv2.VideoCapture(0)\n",
    "face_detection_model = cv2.dnn.readNetFromCaffe('./model/deploy.prototxt.txt',\n",
    "                                                './model/res10_300x300_ssd_iter_140000_fp16.caffemodel')\n",
    "while True:\n",
    "    ret,frame = cap.read()\n",
    "    if ret==False:\n",
    "        break\n",
    "    img_detection = face_detection_dnn(frame)\n",
    "    cv2.imshow('real time face detection with dnn', img_detection)\n",
    "    if cv2.waitKey(1) == ord('a'):\n",
    "        \n",
    "        break\n",
    "\n",
    "cap.release()\n",
    "cv2.waitKey(0)\n",
    "cv2.destroyAllWindows()\n"
   ]
  },
  {
   "cell_type": "code",
   "execution_count": null,
   "id": "ec5fb762-c4a6-4cea-bd4f-52decac65ccf",
   "metadata": {},
   "outputs": [],
   "source": []
  },
  {
   "cell_type": "code",
   "execution_count": null,
   "id": "d75ce077-2cda-4cb2-afea-666599a9c54e",
   "metadata": {},
   "outputs": [],
   "source": []
  },
  {
   "cell_type": "code",
   "execution_count": null,
   "id": "85c73f95-f0ec-4a3c-99a9-eccd79eb93a4",
   "metadata": {},
   "outputs": [],
   "source": []
  },
  {
   "cell_type": "code",
   "execution_count": null,
   "id": "c9790358-e005-4ce0-befe-931840f6aa8e",
   "metadata": {},
   "outputs": [],
   "source": []
  },
  {
   "cell_type": "code",
   "execution_count": null,
   "id": "e0c1c58f-9cf7-4d9f-94c0-90eff9cd882b",
   "metadata": {},
   "outputs": [],
   "source": []
  },
  {
   "cell_type": "code",
   "execution_count": null,
   "id": "31b9ad10-78f8-461c-b1f5-43d8617836f6",
   "metadata": {},
   "outputs": [],
   "source": []
  },
  {
   "cell_type": "code",
   "execution_count": null,
   "id": "24be59de-c18b-48a3-84d5-f21b8df9cbd5",
   "metadata": {},
   "outputs": [],
   "source": []
  },
  {
   "cell_type": "code",
   "execution_count": null,
   "id": "cd4a9a90-4396-4e54-962c-54d66116916f",
   "metadata": {},
   "outputs": [],
   "source": []
  },
  {
   "cell_type": "code",
   "execution_count": null,
   "id": "eea354b0-a977-477f-bcf0-2e553bf63f27",
   "metadata": {},
   "outputs": [],
   "source": []
  },
  {
   "cell_type": "code",
   "execution_count": null,
   "id": "48db03be-75e1-42ce-a46b-8f23c9aed1b8",
   "metadata": {},
   "outputs": [],
   "source": []
  },
  {
   "cell_type": "code",
   "execution_count": null,
   "id": "bc47dd50-3bc6-4aca-ba8d-3e2bb2a7623f",
   "metadata": {},
   "outputs": [],
   "source": []
  },
  {
   "cell_type": "code",
   "execution_count": null,
   "id": "c51ec174-e0dc-4208-b03c-2603f9a112c4",
   "metadata": {},
   "outputs": [],
   "source": []
  },
  {
   "cell_type": "code",
   "execution_count": null,
   "id": "b741bd33-f590-42f3-901c-5e46ef936767",
   "metadata": {},
   "outputs": [],
   "source": []
  },
  {
   "cell_type": "code",
   "execution_count": null,
   "id": "c4bf2c47-adad-430a-973e-7ec77011eb11",
   "metadata": {},
   "outputs": [],
   "source": []
  },
  {
   "cell_type": "code",
   "execution_count": null,
   "id": "60a936e9-e7a5-41da-81dc-737c60b2f97f",
   "metadata": {},
   "outputs": [],
   "source": []
  },
  {
   "cell_type": "code",
   "execution_count": null,
   "id": "f098c62c-f342-4526-a453-2270e16e24c1",
   "metadata": {},
   "outputs": [],
   "source": []
  },
  {
   "cell_type": "code",
   "execution_count": null,
   "id": "e4a14e8f-407f-4039-b1a4-88bc432f5bd9",
   "metadata": {},
   "outputs": [],
   "source": []
  },
  {
   "cell_type": "code",
   "execution_count": null,
   "id": "17ae2dcc-2496-4bd9-ac0f-aa4ecf71effb",
   "metadata": {},
   "outputs": [],
   "source": []
  },
  {
   "cell_type": "code",
   "execution_count": null,
   "id": "747112ab-4820-468f-90d9-76917e6f0320",
   "metadata": {},
   "outputs": [],
   "source": []
  },
  {
   "cell_type": "code",
   "execution_count": null,
   "id": "5c8d8a23-1e8c-40b7-af74-472d22dc74b0",
   "metadata": {},
   "outputs": [],
   "source": []
  },
  {
   "cell_type": "code",
   "execution_count": null,
   "id": "cdfd9e4c-2e7e-494d-9193-f9117df771a3",
   "metadata": {},
   "outputs": [],
   "source": []
  },
  {
   "cell_type": "code",
   "execution_count": null,
   "id": "3bc870fa-a784-43f8-a747-c2b55ac08ac7",
   "metadata": {},
   "outputs": [],
   "source": []
  },
  {
   "cell_type": "code",
   "execution_count": null,
   "id": "2db07153-d03d-4d4a-8bda-19ec40dd1ba3",
   "metadata": {},
   "outputs": [],
   "source": []
  },
  {
   "cell_type": "code",
   "execution_count": null,
   "id": "53fd9daf-faea-4745-a0dc-e1da6567de3d",
   "metadata": {},
   "outputs": [],
   "source": []
  },
  {
   "cell_type": "code",
   "execution_count": null,
   "id": "b56e5518-8a41-4f02-90af-18c96beb6d3b",
   "metadata": {},
   "outputs": [],
   "source": []
  },
  {
   "cell_type": "code",
   "execution_count": null,
   "id": "0b9bd6bd-7a70-4101-85a6-4ce66884c26b",
   "metadata": {},
   "outputs": [],
   "source": []
  },
  {
   "cell_type": "code",
   "execution_count": null,
   "id": "adeb09d2-7416-43d5-ac89-f9de621d44ec",
   "metadata": {},
   "outputs": [],
   "source": []
  },
  {
   "cell_type": "code",
   "execution_count": null,
   "id": "6d5cd5eb-d4c3-4176-808a-2f7629c3efbe",
   "metadata": {},
   "outputs": [],
   "source": []
  },
  {
   "cell_type": "code",
   "execution_count": null,
   "id": "daf24ca1-1c0a-45c1-8b45-dd22b60e31e9",
   "metadata": {},
   "outputs": [],
   "source": []
  },
  {
   "cell_type": "code",
   "execution_count": null,
   "id": "b82e1c5d-014b-4f35-be20-1a335eac9a8f",
   "metadata": {},
   "outputs": [],
   "source": []
  },
  {
   "cell_type": "code",
   "execution_count": null,
   "id": "3ac487ff-b496-416f-8e43-1ec850e013f8",
   "metadata": {},
   "outputs": [],
   "source": [
    "cv2.dnn.readNerFrom"
   ]
  },
  {
   "cell_type": "code",
   "execution_count": null,
   "id": "baa58f61-bfe8-4385-9360-9df198f95db5",
   "metadata": {},
   "outputs": [],
   "source": []
  },
  {
   "cell_type": "code",
   "execution_count": null,
   "id": "e10310ee-8d06-4aa6-b0e9-712add96525b",
   "metadata": {},
   "outputs": [],
   "source": []
  },
  {
   "cell_type": "code",
   "execution_count": null,
   "id": "424f348b-fbc7-4ecb-aeff-d1ed0b8b87af",
   "metadata": {},
   "outputs": [],
   "source": []
  }
 ],
 "metadata": {
  "kernelspec": {
   "display_name": "Python 3 (ipykernel)",
   "language": "python",
   "name": "python3"
  },
  "language_info": {
   "codemirror_mode": {
    "name": "ipython",
    "version": 3
   },
   "file_extension": ".py",
   "mimetype": "text/x-python",
   "name": "python",
   "nbconvert_exporter": "python",
   "pygments_lexer": "ipython3",
   "version": "3.12.0"
  }
 },
 "nbformat": 4,
 "nbformat_minor": 5
}
