{
 "cells": [
  {
   "cell_type": "code",
   "execution_count": 1,
   "id": "6224f015-234c-4b6a-9f0e-3eaf94c04051",
   "metadata": {},
   "outputs": [],
   "source": [
    "import numpy as np"
   ]
  },
  {
   "cell_type": "code",
   "execution_count": 2,
   "id": "84a15271-fa79-4c52-8b52-1fde84a0256c",
   "metadata": {},
   "outputs": [],
   "source": [
    "import cv2"
   ]
  },
  {
   "cell_type": "code",
   "execution_count": 3,
   "id": "04d7c0f9-74ad-48ec-8468-9b40e9a9fa44",
   "metadata": {},
   "outputs": [],
   "source": [
    "img = cv2.imread('./faces.jpg')"
   ]
  },
  {
   "cell_type": "code",
   "execution_count": 4,
   "id": "28dc58b7-2fda-4354-ae16-83c8abc7034c",
   "metadata": {},
   "outputs": [
    {
     "data": {
      "text/plain": [
       "array([[[13, 14, 12],\n",
       "        [13, 14, 12],\n",
       "        [14, 15, 13],\n",
       "        ...,\n",
       "        [ 1,  1,  1],\n",
       "        [ 1,  1,  1],\n",
       "        [ 1,  1,  1]],\n",
       "\n",
       "       [[12, 13, 11],\n",
       "        [12, 13, 11],\n",
       "        [13, 14, 12],\n",
       "        ...,\n",
       "        [ 1,  1,  1],\n",
       "        [ 1,  1,  1],\n",
       "        [ 1,  1,  1]],\n",
       "\n",
       "       [[13, 14, 12],\n",
       "        [12, 13, 11],\n",
       "        [12, 13, 11],\n",
       "        ...,\n",
       "        [ 2,  2,  2],\n",
       "        [ 1,  1,  1],\n",
       "        [ 1,  1,  1]],\n",
       "\n",
       "       ...,\n",
       "\n",
       "       [[14, 14, 14],\n",
       "        [12, 12, 12],\n",
       "        [16, 16, 16],\n",
       "        ...,\n",
       "        [31, 37, 44],\n",
       "        [30, 36, 43],\n",
       "        [40, 46, 53]],\n",
       "\n",
       "       [[10, 11,  9],\n",
       "        [ 9, 10,  8],\n",
       "        [13, 14, 12],\n",
       "        ...,\n",
       "        [32, 38, 45],\n",
       "        [32, 38, 45],\n",
       "        [36, 42, 49]],\n",
       "\n",
       "       [[ 8,  9,  7],\n",
       "        [ 8,  9,  7],\n",
       "        [12, 13, 11],\n",
       "        ...,\n",
       "        [30, 36, 43],\n",
       "        [32, 38, 45],\n",
       "        [31, 37, 44]]], dtype=uint8)"
      ]
     },
     "execution_count": 4,
     "metadata": {},
     "output_type": "execute_result"
    }
   ],
   "source": [
    "img"
   ]
  },
  {
   "cell_type": "code",
   "execution_count": 6,
   "id": "35203bd6-6a69-49d0-adf4-05525c3fb203",
   "metadata": {},
   "outputs": [],
   "source": [
    "cv2.imshow('face_detection',img)\n",
    "cv2.waitKey(0)\n",
    "cv2.destroyAllWindows()"
   ]
  },
  {
   "cell_type": "code",
   "execution_count": 7,
   "id": "7061940a-02c1-44fb-9c08-f626a8450f22",
   "metadata": {},
   "outputs": [
    {
     "data": {
      "text/plain": [
       "(700, 960, 3)"
      ]
     },
     "execution_count": 7,
     "metadata": {},
     "output_type": "execute_result"
    }
   ],
   "source": [
    "img.shape"
   ]
  },
  {
   "cell_type": "code",
   "execution_count": 9,
   "id": "75cdf81d-c36c-44ef-926c-32424bf9b5f9",
   "metadata": {},
   "outputs": [],
   "source": [
    "face_cascade = cv2.CascadeClassifier('./model/haarcascade_frontalface_default.xml')"
   ]
  },
  {
   "cell_type": "code",
   "execution_count": 10,
   "id": "9c5cb57c-66b1-4ccd-b25e-fee0eba1a645",
   "metadata": {},
   "outputs": [],
   "source": [
    "# need conver image to gray scale to get the bounding boxes\n",
    "\n",
    "gray = cv2.cvtColor(img,cv2.COLOR_BGR2GRAY)\n",
    "\n",
    "#STEP2: apply GRAY SCALE IMAGE TO CASCADE CLASSIER\n",
    "\n",
    "boxes,detections = face_cascade.detectMultiScale2(gray)"
   ]
  },
  {
   "cell_type": "code",
   "execution_count": 12,
   "id": "3e58d499-4e41-444f-b6b0-cf9bc73dfce6",
   "metadata": {},
   "outputs": [
    {
     "data": {
      "text/plain": [
       "array([[894, 573,  52,  52],\n",
       "       [697, 107, 248, 248],\n",
       "       [ 88,  75, 316, 316],\n",
       "       [321,  84, 385, 385]])"
      ]
     },
     "execution_count": 12,
     "metadata": {},
     "output_type": "execute_result"
    }
   ],
   "source": [
    "boxes"
   ]
  },
  {
   "cell_type": "code",
   "execution_count": 14,
   "id": "ee516561-e723-434b-a94c-a5d82751c83d",
   "metadata": {},
   "outputs": [],
   "source": [
    "# 4 rows detect we have 4 faces \n"
   ]
  },
  {
   "cell_type": "code",
   "execution_count": 16,
   "id": "14cf86e8-3373-4db2-890d-abb10dd0f591",
   "metadata": {},
   "outputs": [
    {
     "data": {
      "text/plain": [
       "array([ 4, 37, 10, 35])"
      ]
     },
     "execution_count": 16,
     "metadata": {},
     "output_type": "execute_result"
    }
   ],
   "source": [
    "detections"
   ]
  },
  {
   "cell_type": "code",
   "execution_count": 17,
   "id": "5be964a3-e476-43de-a989-fd8e5eb313f8",
   "metadata": {},
   "outputs": [],
   "source": [
    "# establish relation inside boxes and arrays \n",
    "# 4 row of boxes, 4 rows of columns = \n",
    "#1st row has 4 boxes, \n",
    "#2nd row has 37 boxes, \n",
    "#3rd row has 10 boxes\n",
    "#4th row has 35 boxes\n"
   ]
  },
  {
   "cell_type": "code",
   "execution_count": 19,
   "id": "1438c05f-4d82-4d96-bd46-1c11fc6c7fba",
   "metadata": {},
   "outputs": [],
   "source": [
    "# correction with minimum neighbours\n",
    "\n",
    "# need conver image to gray scale to get the bounding boxes\n",
    "\n",
    "gray = cv2.cvtColor(img,cv2.COLOR_BGR2GRAY)\n",
    "\n",
    "#STEP2: apply GRAY SCALE IMAGE TO CASCADE CLASSIER\n",
    "\n",
    "boxes,detections = face_cascade.detectMultiScale2(gray,minNeighbors=8)\n"
   ]
  },
  {
   "cell_type": "code",
   "execution_count": 20,
   "id": "50ee2a79-da3a-41cc-b183-c1abc4395c26",
   "metadata": {},
   "outputs": [
    {
     "data": {
      "text/plain": [
       "array([[321,  84, 385, 385],\n",
       "       [697, 107, 248, 248],\n",
       "       [ 88,  75, 316, 316]])"
      ]
     },
     "execution_count": 20,
     "metadata": {},
     "output_type": "execute_result"
    }
   ],
   "source": [
    "boxes"
   ]
  },
  {
   "cell_type": "code",
   "execution_count": 21,
   "id": "0b2d7a71-6c4c-4adf-8207-0db81ab9f14b",
   "metadata": {},
   "outputs": [
    {
     "data": {
      "text/plain": [
       "array([35, 37, 10])"
      ]
     },
     "execution_count": 21,
     "metadata": {},
     "output_type": "execute_result"
    }
   ],
   "source": [
    "detections"
   ]
  },
  {
   "cell_type": "code",
   "execution_count": 22,
   "id": "79abf7bb-f8df-4915-92cc-7688598543c5",
   "metadata": {},
   "outputs": [],
   "source": [
    "# now reduced the boxes"
   ]
  },
  {
   "cell_type": "code",
   "execution_count": 23,
   "id": "0842b846-f906-4d64-bc05-85718ad3a921",
   "metadata": {},
   "outputs": [],
   "source": [
    "# boxes row1  321,  84, 385, 385: x = 321, y= 84, width, height= 385"
   ]
  },
  {
   "cell_type": "code",
   "execution_count": 24,
   "id": "c2f166ea-496d-4364-bf0a-0aa13caadd72",
   "metadata": {},
   "outputs": [],
   "source": [
    "# draw bounding box"
   ]
  },
  {
   "cell_type": "code",
   "execution_count": 26,
   "id": "a17f3ff6-950b-43d5-ba5b-3cf5777b7423",
   "metadata": {},
   "outputs": [
    {
     "name": "stdout",
     "output_type": "stream",
     "text": [
      "321 84 385 385\n",
      "697 107 248 248\n",
      "88 75 316 316\n"
     ]
    }
   ],
   "source": [
    "# correction with minimum neighbours\n",
    "image= img.copy()\n",
    "# need conver image to gray scale to get the bounding boxes\n",
    "\n",
    "gray = cv2.cvtColor(img,cv2.COLOR_BGR2GRAY)\n",
    "\n",
    "#STEP2: apply GRAY SCALE IMAGE TO CASCADE CLASSIER\n",
    "\n",
    "boxes,detections = face_cascade.detectMultiScale2(gray,minNeighbors=8)\n",
    "for x,y,w,h in boxes:\n",
    "    print(x,y,w,h)\n",
    "    cv2.rectangle(image, (x,y),(x+w,y+h),(0,255,0,1))\n",
    "\n",
    "cv2.imshow('face_detection', image)\n",
    "cv2.waitKey(0)\n",
    "cv2.destroyAllWindows()"
   ]
  },
  {
   "cell_type": "code",
   "execution_count": 35,
   "id": "40607893-5c6a-4546-819c-c6509121bfa7",
   "metadata": {},
   "outputs": [],
   "source": [
    "#write funcation face detection\n",
    "\n",
    "def face_detection(img):\n",
    "    image= img.copy()\n",
    "    #step1: convert image to gray scale\n",
    "    gray= cv2.cvtColor(img,cv2.COLOR_BGR2GRAY)\n",
    "    # step2: load model \n",
    "    face_cascade = cv2.CascadeClassifier('./model/haarcascade_frontalface_default.xml')\n",
    "    #step2: Apply gray scale image to cascade classifier\n",
    "    boxes,detections= face_cascade.detectMultiScale2(gray,minNeighbors=8)\n",
    "\n",
    "    for x,y,w,h in boxes: \n",
    "        cv2.rectangle(image,(x,y),(x+w,y+h),(0,255,0),1)\n",
    "    return image\n",
    "    "
   ]
  },
  {
   "cell_type": "code",
   "execution_count": null,
   "id": "ad70c122-3cf9-4ef9-9b91-ffe99e2acf55",
   "metadata": {},
   "outputs": [],
   "source": []
  },
  {
   "cell_type": "code",
   "execution_count": null,
   "id": "ed5b81ab-4107-4937-9c4d-a8e3336dea85",
   "metadata": {},
   "outputs": [],
   "source": []
  },
  {
   "cell_type": "code",
   "execution_count": null,
   "id": "076e04f2-6d42-44d6-8460-493af49dd3a5",
   "metadata": {},
   "outputs": [],
   "source": []
  },
  {
   "cell_type": "code",
   "execution_count": 36,
   "id": "55ad38d3-b422-42d2-8b7a-d29496078918",
   "metadata": {},
   "outputs": [],
   "source": [
    "image_detect = face_detection(image)\n",
    "cv2.imshow('face_detection',image_detect)\n",
    "cv2.waitKey(0)\n",
    "cv2.destroyAllWindows()"
   ]
  },
  {
   "cell_type": "code",
   "execution_count": null,
   "id": "0a051580-3ab8-4d0c-8d1c-25fbff8406a6",
   "metadata": {},
   "outputs": [],
   "source": []
  },
  {
   "cell_type": "code",
   "execution_count": null,
   "id": "76c208d3-03b9-4e92-b4ad-e014961a5244",
   "metadata": {},
   "outputs": [],
   "source": []
  },
  {
   "cell_type": "code",
   "execution_count": null,
   "id": "3338d6b7-e368-4672-991c-80744ec2007e",
   "metadata": {},
   "outputs": [],
   "source": []
  },
  {
   "cell_type": "code",
   "execution_count": null,
   "id": "de25ad45-6ac6-47c8-8c60-7a85480fe0ae",
   "metadata": {},
   "outputs": [],
   "source": []
  },
  {
   "cell_type": "code",
   "execution_count": null,
   "id": "1111fd95-5e1b-4a60-912d-39269d586afd",
   "metadata": {},
   "outputs": [],
   "source": []
  },
  {
   "cell_type": "code",
   "execution_count": null,
   "id": "f33247ae-1508-4543-aafb-5c8ae1b7c5d4",
   "metadata": {},
   "outputs": [],
   "source": []
  },
  {
   "cell_type": "code",
   "execution_count": null,
   "id": "a976f289-0bdf-4f4f-b625-d48c9fdaec92",
   "metadata": {},
   "outputs": [],
   "source": []
  },
  {
   "cell_type": "code",
   "execution_count": null,
   "id": "257c3552-f251-4f2d-b6d4-29aba324eac0",
   "metadata": {},
   "outputs": [],
   "source": []
  },
  {
   "cell_type": "code",
   "execution_count": null,
   "id": "e26b3f9f-1a32-4c5c-a50c-03e6cccd1667",
   "metadata": {},
   "outputs": [],
   "source": []
  },
  {
   "cell_type": "code",
   "execution_count": null,
   "id": "3f6a5c14-258d-4b7f-a19a-8273ff7072ca",
   "metadata": {},
   "outputs": [],
   "source": []
  },
  {
   "cell_type": "code",
   "execution_count": null,
   "id": "c4ad028a-bff1-4145-8476-470857c373f3",
   "metadata": {},
   "outputs": [],
   "source": []
  },
  {
   "cell_type": "code",
   "execution_count": null,
   "id": "4b562115-5206-440a-ac32-98bf2c08bc6a",
   "metadata": {},
   "outputs": [],
   "source": []
  },
  {
   "cell_type": "code",
   "execution_count": null,
   "id": "4bbe6995-9e88-4296-9679-2c81e7c273f6",
   "metadata": {},
   "outputs": [],
   "source": []
  }
 ],
 "metadata": {
  "kernelspec": {
   "display_name": "Python 3 (ipykernel)",
   "language": "python",
   "name": "python3"
  },
  "language_info": {
   "codemirror_mode": {
    "name": "ipython",
    "version": 3
   },
   "file_extension": ".py",
   "mimetype": "text/x-python",
   "name": "python",
   "nbconvert_exporter": "python",
   "pygments_lexer": "ipython3",
   "version": "3.12.0"
  }
 },
 "nbformat": 4,
 "nbformat_minor": 5
}
