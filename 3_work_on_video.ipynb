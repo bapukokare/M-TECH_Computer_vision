{
 "cells": [
  {
   "cell_type": "code",
   "execution_count": 3,
   "id": "2cdd3b85-04d4-4daf-bacc-ce0327a13955",
   "metadata": {},
   "outputs": [],
   "source": [
    "import numpy as np\n",
    "import cv2\n",
    "import time"
   ]
  },
  {
   "cell_type": "code",
   "execution_count": 2,
   "id": "5f6173ec-b435-44cb-91d3-afc12efa7743",
   "metadata": {},
   "outputs": [],
   "source": [
    "cap = cv2.VideoCapture('./data/clip.mp4')\n",
    "# present each fram\n",
    "while True:\n",
    "    ret, frame = cap.read()\n",
    "    if ret == False:\n",
    "        break\n",
    "    cv2.imshow('video',frame)\n",
    "    if cv2.waitKey(1) == ord('q'):\n",
    "        brek\n",
    "cap.release()\n",
    "cv2.destroyAllWindows()\n",
    "        "
   ]
  },
  {
   "cell_type": "code",
   "execution_count": 6,
   "id": "cb755dc7-0705-4f84-87b3-7030cf6a293b",
   "metadata": {},
   "outputs": [],
   "source": [
    "# vider runs too fast due to waitkey(1) # 1000 millisecond"
   ]
  },
  {
   "cell_type": "code",
   "execution_count": 4,
   "id": "aca68eb0-0b91-4148-b3c7-d54cf6f5ee71",
   "metadata": {},
   "outputs": [],
   "source": [
    "# calculte frame per second\n",
    "import time\n",
    "fps=0\n",
    "cap = cv2.VideoCapture('./data/clip.mp4')\n",
    "# present each fram\n",
    "while True:\n",
    "    start_time=time.time()\n",
    "    ret, frame = cap.read()\n",
    "    if ret == False:\n",
    "        break\n",
    "        \n",
    "    cv2.putText(frame,'FPS:{:.0f}'.format(fps),(40,35),cv2.FONT_HERSHEY_SIMPLEX,1.5,\n",
    "                                          (255,255,255),1)\n",
    "    cv2.imshow('video',frame)\n",
    "    if cv2.waitKey(1) == ord('q'):\n",
    "        break\n",
    "\n",
    "    time_taken= time.time() - start_time # time in second\n",
    "    fps = 1/time_taken # frame per second\n",
    "    \n",
    "cap.release()\n",
    "cv2.destroyAllWindows()\n"
   ]
  },
  {
   "cell_type": "code",
   "execution_count": 5,
   "id": "49a8676f-97cc-4f03-a798-58a748f15f0c",
   "metadata": {},
   "outputs": [
    {
     "data": {
      "text/plain": [
       "41.666666666666664"
      ]
     },
     "execution_count": 5,
     "metadata": {},
     "output_type": "execute_result"
    }
   ],
   "source": [
    "1000/24"
   ]
  },
  {
   "cell_type": "code",
   "execution_count": 7,
   "id": "941b6afb-19e1-4a1e-98c0-ef53e9ddedf8",
   "metadata": {},
   "outputs": [],
   "source": [
    "# calculte frame per second\n",
    "import time\n",
    "fps=0\n",
    "cap = cv2.VideoCapture('./data/clip.mp4')\n",
    "# present each fram\n",
    "while True:\n",
    "    start_time=time.time()\n",
    "    ret, frame = cap.read()\n",
    "    if ret == False:\n",
    "        break\n",
    "        \n",
    "    cv2.putText(frame,'FPS:{:.0f}'.format(fps),(40,35),cv2.FONT_HERSHEY_SIMPLEX,1.5,\n",
    "                                          (255,255,255),1)\n",
    "    cv2.imshow('video',frame)\n",
    "    if cv2.waitKey(21) == ord('q'):\n",
    "        break\n",
    "\n",
    "    time_taken= time.time() - start_time # time in second\n",
    "    fps = 1/time_taken # frame per second\n",
    "    \n",
    "cap.release()\n",
    "cv2.destroyAllWindows()"
   ]
  },
  {
   "cell_type": "markdown",
   "id": "f4628b96-3bdd-492e-8ff6-e3fc9d282cec",
   "metadata": {},
   "source": [
    "Accessing Web Camera"
   ]
  },
  {
   "cell_type": "code",
   "execution_count": 4,
   "id": "14e8670a-adfb-4aa9-86c0-781fc59ceb73",
   "metadata": {},
   "outputs": [
    {
     "ename": "AttributeError",
     "evalue": "module 'cv2' has no attribute 'destroyAllWndows'",
     "output_type": "error",
     "traceback": [
      "\u001b[1;31m---------------------------------------------------------------------------\u001b[0m",
      "\u001b[1;31mAttributeError\u001b[0m                            Traceback (most recent call last)",
      "Cell \u001b[1;32mIn[4], line 18\u001b[0m\n\u001b[0;32m     15\u001b[0m     fps\u001b[38;5;241m=\u001b[39m \u001b[38;5;241m1\u001b[39m\u001b[38;5;241m/\u001b[39mtime_taken\n\u001b[0;32m     17\u001b[0m cap\u001b[38;5;241m.\u001b[39mrelease()\n\u001b[1;32m---> 18\u001b[0m \u001b[43mcv2\u001b[49m\u001b[38;5;241;43m.\u001b[39;49m\u001b[43mdestroyAllWndows\u001b[49m()\n",
      "\u001b[1;31mAttributeError\u001b[0m: module 'cv2' has no attribute 'destroyAllWndows'"
     ]
    }
   ],
   "source": [
    "# this script uses only one cam\n",
    "cap = cv2.VideoCapture(0)\n",
    "fps = 0 \n",
    "while True:\n",
    "    start_time = time.time()\n",
    "    ret,frame = cap.read()\n",
    "    if ret == False:\n",
    "        break\n",
    "\n",
    "    cv2.putText(frame,'FPS:{:0f}'.format(fps),(30,40),cv2.FONT_HERSHEY_SIMPLEX,1.5,\n",
    "                (255,255,255),1)\n",
    "    cv2.imshow('Video',frame)\n",
    "    if cv2.waitKey(1)==ord('q'):\n",
    "        break\n",
    "    time_taken = time.time() - start_time\n",
    "    fps= 1/time_taken\n",
    "\n",
    "cap.release()\n",
    "cv2.destroyAllWndows()\n"
   ]
  },
  {
   "cell_type": "code",
   "execution_count": 5,
   "id": "e7c2cbbf-2bf7-40b8-af07-40b065ea063e",
   "metadata": {},
   "outputs": [
    {
     "data": {
      "text/plain": [
       "(480, 640, 3)"
      ]
     },
     "execution_count": 5,
     "metadata": {},
     "output_type": "execute_result"
    }
   ],
   "source": [
    "frame.shape"
   ]
  },
  {
   "cell_type": "code",
   "execution_count": 6,
   "id": "59c32310-bb2f-462a-8551-ede6ec8fabc6",
   "metadata": {},
   "outputs": [],
   "source": [
    " # if dimensiton of two video is same then stack those video\n"
   ]
  },
  {
   "cell_type": "code",
   "execution_count": null,
   "id": "e617ac9e-8898-43b9-86d2-e79995b60fbd",
   "metadata": {},
   "outputs": [],
   "source": []
  },
  {
   "cell_type": "code",
   "execution_count": null,
   "id": "62ff92dd-5d83-413f-9f24-632079b7d02f",
   "metadata": {},
   "outputs": [],
   "source": []
  },
  {
   "cell_type": "markdown",
   "id": "73f6d4ac-da10-4854-9e61-d12a7780169f",
   "metadata": {},
   "source": [
    " ##attache two cam "
   ]
  },
  {
   "cell_type": "code",
   "execution_count": 2,
   "id": "10bd19b7-4bd1-433d-8b4e-79e9ed46b3b2",
   "metadata": {},
   "outputs": [
    {
     "ename": "error",
     "evalue": "OpenCV(4.9.0) D:\\a\\opencv-python\\opencv-python\\opencv\\modules\\highgui\\src\\window.cpp:971: error: (-215:Assertion failed) size.width>0 && size.height>0 in function 'cv::imshow'\n",
     "output_type": "error",
     "traceback": [
      "\u001b[1;31m---------------------------------------------------------------------------\u001b[0m",
      "\u001b[1;31merror\u001b[0m                                     Traceback (most recent call last)",
      "Cell \u001b[1;32mIn[2], line 16\u001b[0m\n\u001b[0;32m     12\u001b[0m cv2\u001b[38;5;241m.\u001b[39mputText(frame1,\u001b[38;5;124m'\u001b[39m\u001b[38;5;124mFPS:\u001b[39m\u001b[38;5;132;01m{:0f}\u001b[39;00m\u001b[38;5;124m'\u001b[39m\u001b[38;5;241m.\u001b[39mformat(fps),(\u001b[38;5;241m30\u001b[39m,\u001b[38;5;241m40\u001b[39m),cv2\u001b[38;5;241m.\u001b[39mFONT_HERSHEY_SIMPLEX,\u001b[38;5;241m1.5\u001b[39m,\n\u001b[0;32m     13\u001b[0m             (\u001b[38;5;241m255\u001b[39m,\u001b[38;5;241m255\u001b[39m,\u001b[38;5;241m255\u001b[39m),\u001b[38;5;241m1\u001b[39m)\n\u001b[0;32m     15\u001b[0m cv2\u001b[38;5;241m.\u001b[39mimshow(\u001b[38;5;124m'\u001b[39m\u001b[38;5;124mcamera-1\u001b[39m\u001b[38;5;124m'\u001b[39m,frame0)\n\u001b[1;32m---> 16\u001b[0m \u001b[43mcv2\u001b[49m\u001b[38;5;241;43m.\u001b[39;49m\u001b[43mimshow\u001b[49m\u001b[43m(\u001b[49m\u001b[38;5;124;43m'\u001b[39;49m\u001b[38;5;124;43mcamera-2\u001b[39;49m\u001b[38;5;124;43m'\u001b[39;49m\u001b[43m,\u001b[49m\u001b[43mframe1\u001b[49m\u001b[43m)\u001b[49m\n\u001b[0;32m     18\u001b[0m \u001b[38;5;28;01mif\u001b[39;00m cv2\u001b[38;5;241m.\u001b[39mwaitKey(\u001b[38;5;241m1\u001b[39m)\u001b[38;5;241m==\u001b[39m\u001b[38;5;28mord\u001b[39m(\u001b[38;5;124m'\u001b[39m\u001b[38;5;124mq\u001b[39m\u001b[38;5;124m'\u001b[39m):\n\u001b[0;32m     19\u001b[0m     \u001b[38;5;28;01mbreak\u001b[39;00m\n",
      "\u001b[1;31merror\u001b[0m: OpenCV(4.9.0) D:\\a\\opencv-python\\opencv-python\\opencv\\modules\\highgui\\src\\window.cpp:971: error: (-215:Assertion failed) size.width>0 && size.height>0 in function 'cv::imshow'\n"
     ]
    }
   ],
   "source": [
    "# need to connect 2 cam\n",
    "cap0 = cv2.VideoCapture(0)\n",
    "cap1 = cv2.VideoCapture(1)\n",
    "fps = 0 \n",
    "while True:\n",
    "    start_time = time.time()\n",
    "    ret,frame0 = cap0.read()\n",
    "    ret, frame1 = cap1.read()\n",
    "    \n",
    "    cv2.putText(frame0,'FPS:{:0f}'.format(fps),(30,40),cv2.FONT_HERSHEY_SIMPLEX,1.5,\n",
    "                (255,255,255),1)\n",
    "\n",
    "    cv2.putText(frame1,'FPS:{:0f}'.format(fps),(30,40),cv2.FONT_HERSHEY_SIMPLEX,1.5,\n",
    "                (255,255,255),1)\n",
    "    \n",
    "    cv2.imshow('camera-1',frame0)\n",
    "    cv2.imshow('camera-2',frame1)\n",
    "    \n",
    "    if cv2.waitKey(1)==ord('q'):\n",
    "        break\n",
    "    time_taken = time.time() - start_time\n",
    "    fps= 1/time_taken\n",
    "\n",
    "cap.release()\n",
    "cv2.destroyAllWndows()\n",
    "fps = 0 \n",
    "while True:\n",
    "    start_time = time.time()\n",
    "    ret,frame = cap.read()\n",
    "    if ret == False:\n",
    "        break\n",
    "\n",
    "    cv2.putText(frame,'FPS:{:0f}'.format(fps),(30,40),cv2.FONT_HERSHEY_SIMPLEX,1.5,\n",
    "                (255,255,255),1)\n",
    "    #cv2.imshow('Video',frame)\n",
    "    if cv2.waitKey(1)==ord('q'):\n",
    "        break\n",
    "    time_taken = time.time() - start_time\n",
    "    fps= 1/time_taken\n",
    "\n",
    "cap.release()\n",
    "cv2.destroyAllWndows()"
   ]
  },
  {
   "cell_type": "code",
   "execution_count": 1,
   "id": "7d3601e5-cf05-4788-aaf4-a3e43792b209",
   "metadata": {},
   "outputs": [
    {
     "ename": "NameError",
     "evalue": "name 'frame0' is not defined",
     "output_type": "error",
     "traceback": [
      "\u001b[1;31m---------------------------------------------------------------------------\u001b[0m",
      "\u001b[1;31mNameError\u001b[0m                                 Traceback (most recent call last)",
      "Cell \u001b[1;32mIn[1], line 1\u001b[0m\n\u001b[1;32m----> 1\u001b[0m \u001b[43mframe0\u001b[49m\u001b[38;5;241m.\u001b[39mshape\n",
      "\u001b[1;31mNameError\u001b[0m: name 'frame0' is not defined"
     ]
    }
   ],
   "source": [
    "frame0.shape"
   ]
  },
  {
   "cell_type": "code",
   "execution_count": 7,
   "id": "e04b04d8-e01e-4725-8a4e-809a1f3ca83f",
   "metadata": {},
   "outputs": [],
   "source": [
    "# if video1 and video2 are of the same shape then stack those video "
   ]
  },
  {
   "cell_type": "code",
   "execution_count": null,
   "id": "2d4f5ac8-8631-4074-b183-ba660a691b3c",
   "metadata": {},
   "outputs": [],
   "source": [
    "# need to connect 2nd usb web cam\n",
    "cap0 = cv2.VideoCapture(0)\n",
    "cap1 = cv2.VideoCapture(1)\n",
    "fps = 0 \n",
    "while True:\n",
    "    start_time = time.time()\n",
    "    ret,frame0 = cap0.read()\n",
    "    ret, frame1 = cap1.read()\n",
    "    \n",
    "    cv2.putText(frame0,'FPS:{:0f}'.format(fps),(30,40),cv2.FONT_HERSHEY_SIMPLEX,1.5,\n",
    "                (255,255,255),1)\n",
    "\n",
    "    cv2.putText(frame1,'FPS:{:0f}'.format(fps),(30,40),cv2.FONT_HERSHEY_SIMPLEX,1.5,\n",
    "                (255,255,255),1)\n",
    "    \n",
    "    cv2.imshow('camera-1',frame0)\n",
    "    cv2.imshow('camera-2',frame1)\n",
    "    cv2.imshow('camera-12',hstack)\n",
    "\n",
    "    #horizontal stack\n",
    "    hstack= np.hstack((frame0,frame1))\n",
    "    \n",
    "    \n",
    "    if cv2.waitKey(1)==ord('q'):\n",
    "        break\n",
    "    time_taken = time.time() - start_time\n",
    "    fps= 1/time_taken\n",
    "\n",
    "cap.release()\n",
    "cv2.destroyAllWndows()\n",
    "fps = 0 \n",
    "while True:\n",
    "    start_time = time.time()\n",
    "    ret,frame = cap.read()\n",
    "    if ret == False:\n",
    "        break\n",
    "\n",
    "    cv2.putText(frame,'FPS:{:0f}'.format(fps),(30,40),cv2.FONT_HERSHEY_SIMPLEX,1.5,\n",
    "                (255,255,255),1)\n",
    "    cv2.imshow('Video',frame)\n",
    "    if cv2.waitKey(1)==ord('q'):\n",
    "        break\n",
    "    time_taken = time.time() - start_time\n",
    "    fps= 1/time_taken\n",
    "\n",
    "cap.release()\n",
    "cv2.destroyAllWndows()"
   ]
  },
  {
   "cell_type": "code",
   "execution_count": null,
   "id": "52bc36bf-7165-4dce-bbd3-e77501aa0967",
   "metadata": {},
   "outputs": [],
   "source": []
  },
  {
   "cell_type": "code",
   "execution_count": null,
   "id": "1aca5596-0582-4fe0-aee4-a068c7dfee9c",
   "metadata": {},
   "outputs": [],
   "source": []
  },
  {
   "cell_type": "code",
   "execution_count": null,
   "id": "9c1e184d-95ba-4248-a239-791b2d3e152d",
   "metadata": {},
   "outputs": [],
   "source": []
  },
  {
   "cell_type": "code",
   "execution_count": null,
   "id": "63ea5e17-2dac-4cc4-82c7-db10f17ed8d1",
   "metadata": {},
   "outputs": [],
   "source": []
  }
 ],
 "metadata": {
  "kernelspec": {
   "display_name": "Python 3 (ipykernel)",
   "language": "python",
   "name": "python3"
  },
  "language_info": {
   "codemirror_mode": {
    "name": "ipython",
    "version": 3
   },
   "file_extension": ".py",
   "mimetype": "text/x-python",
   "name": "python",
   "nbconvert_exporter": "python",
   "pygments_lexer": "ipython3",
   "version": "3.12.0"
  }
 },
 "nbformat": 4,
 "nbformat_minor": 5
}
