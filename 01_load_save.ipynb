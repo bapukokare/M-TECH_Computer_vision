{
 "cells": [
  {
   "cell_type": "code",
   "execution_count": 1,
   "id": "e10e5d75-bc18-4035-b521-2dd7a78ed143",
   "metadata": {},
   "outputs": [],
   "source": [
    "import numpy as np\n",
    "import cv2"
   ]
  },
  {
   "cell_type": "code",
   "execution_count": 2,
   "id": "73e09361-343d-4f70-8c74-0e6c1e8e6c7e",
   "metadata": {},
   "outputs": [],
   "source": [
    "img = cv2.imread('./m1/flemingo.jpg')"
   ]
  },
  {
   "cell_type": "code",
   "execution_count": 3,
   "id": "237eb4cc-c09e-4124-ae8f-f5dfdb179c12",
   "metadata": {},
   "outputs": [
    {
     "name": "stdout",
     "output_type": "stream",
     "text": [
      "[[[151 130 115]\n",
      "  [151 130 115]\n",
      "  [151 130 115]\n",
      "  ...\n",
      "  [151 130 115]\n",
      "  [151 130 115]\n",
      "  [151 130 115]]\n",
      "\n",
      " [[151 130 115]\n",
      "  [151 130 115]\n",
      "  [151 130 115]\n",
      "  ...\n",
      "  [151 130 115]\n",
      "  [151 130 115]\n",
      "  [151 130 115]]\n",
      "\n",
      " [[151 130 115]\n",
      "  [151 130 115]\n",
      "  [151 130 115]\n",
      "  ...\n",
      "  [151 130 115]\n",
      "  [151 130 115]\n",
      "  [151 130 115]]\n",
      "\n",
      " ...\n",
      "\n",
      " [[120  94  77]\n",
      "  [120  94  77]\n",
      "  [120  94  77]\n",
      "  ...\n",
      "  [114  90  72]\n",
      "  [114  90  72]\n",
      "  [118  94  76]]\n",
      "\n",
      " [[120  94  77]\n",
      "  [120  94  77]\n",
      "  [120  94  77]\n",
      "  ...\n",
      "  [110  86  68]\n",
      "  [110  86  68]\n",
      "  [117  93  75]]\n",
      "\n",
      " [[120  94  77]\n",
      "  [120  94  77]\n",
      "  [120  94  77]\n",
      "  ...\n",
      "  [107  83  65]\n",
      "  [107  83  65]\n",
      "  [116  92  74]]]\n"
     ]
    }
   ],
   "source": [
    "print(img)\n",
    "# most of images are 3d images"
   ]
  },
  {
   "cell_type": "code",
   "execution_count": 4,
   "id": "a076eb22-86e8-410e-89ee-f4f55e683ea7",
   "metadata": {},
   "outputs": [
    {
     "data": {
      "text/plain": [
       "(254, 198, 3)"
      ]
     },
     "execution_count": 4,
     "metadata": {},
     "output_type": "execute_result"
    }
   ],
   "source": [
    "img.shape\n",
    "#3 = thre channel format(b,g,r), first two value represnet image pixel size"
   ]
  },
  {
   "cell_type": "code",
   "execution_count": 6,
   "id": "7eefcf18-2ba2-484a-9c1c-d7c6616e9ef6",
   "metadata": {},
   "outputs": [],
   "source": [
    "# display image \n",
    "cv2.imshow('example', img)\n",
    "cv2.waitKey(10000) # wait time to display image for \n",
    "cv2.destroyAllWindows() # after 10k time counter destroy window"
   ]
  },
  {
   "cell_type": "code",
   "execution_count": null,
   "id": "cd843a33-1527-4745-857f-f76ad8fe7598",
   "metadata": {},
   "outputs": [],
   "source": []
  },
  {
   "cell_type": "code",
   "execution_count": 7,
   "id": "9aea93f2-275d-404c-8d5d-af1070866508",
   "metadata": {},
   "outputs": [],
   "source": [
    "# display image unti any key press\n",
    "cv2.imshow('example', img)\n",
    "cv2.waitKey(0) # wait time to display image for \n",
    "cv2.destroyAllWindows() # after 10k time counter destroy window"
   ]
  },
  {
   "cell_type": "code",
   "execution_count": null,
   "id": "1230c996-7af7-4332-976c-037f00f03627",
   "metadata": {},
   "outputs": [],
   "source": []
  },
  {
   "cell_type": "code",
   "execution_count": 8,
   "id": "0026cd7b-a159-47f2-b402-263cffa40f31",
   "metadata": {},
   "outputs": [
    {
     "data": {
      "text/plain": [
       "True"
      ]
     },
     "execution_count": 8,
     "metadata": {},
     "output_type": "execute_result"
    }
   ],
   "source": [
    "# save image neer arry or big matrix \n",
    "cv2.imwrite('./m1/example.png',img)"
   ]
  },
  {
   "cell_type": "code",
   "execution_count": 9,
   "id": "d390381c-b46b-4f1f-ae5b-0f411ddb561c",
   "metadata": {},
   "outputs": [],
   "source": [
    "cv2.imread('filename.jpg',0)"
   ]
  },
  {
   "cell_type": "code",
   "execution_count": 10,
   "id": "86c8ed3f-6502-4565-949e-e993d909b43e",
   "metadata": {},
   "outputs": [
    {
     "data": {
      "text/plain": [
       "250000"
      ]
     },
     "execution_count": 10,
     "metadata": {},
     "output_type": "execute_result"
    }
   ],
   "source": [
    "500*500"
   ]
  },
  {
   "cell_type": "code",
   "execution_count": null,
   "id": "944c0ebc-4d7d-452f-920a-2c945c0f2b5a",
   "metadata": {},
   "outputs": [],
   "source": []
  },
  {
   "cell_type": "code",
   "execution_count": null,
   "id": "0d265de1-113d-49ce-91a7-d4624767986d",
   "metadata": {},
   "outputs": [],
   "source": []
  },
  {
   "cell_type": "code",
   "execution_count": null,
   "id": "78a13491-d589-4f6e-b897-97f110d8ac1f",
   "metadata": {},
   "outputs": [],
   "source": []
  },
  {
   "cell_type": "code",
   "execution_count": null,
   "id": "091476a5-0d7c-492d-a317-448a9a242aed",
   "metadata": {},
   "outputs": [],
   "source": []
  },
  {
   "cell_type": "code",
   "execution_count": null,
   "id": "695d38e7-9b61-4c0a-875d-e8752aee4ac2",
   "metadata": {},
   "outputs": [],
   "source": []
  },
  {
   "cell_type": "code",
   "execution_count": null,
   "id": "22e8f780-3274-480e-97f5-c80518b46d4b",
   "metadata": {},
   "outputs": [],
   "source": []
  },
  {
   "cell_type": "code",
   "execution_count": null,
   "id": "f6f3db51-530b-45a1-976f-3dbd064e72f8",
   "metadata": {},
   "outputs": [],
   "source": []
  }
 ],
 "metadata": {
  "kernelspec": {
   "display_name": "Python 3 (ipykernel)",
   "language": "python",
   "name": "python3"
  },
  "language_info": {
   "codemirror_mode": {
    "name": "ipython",
    "version": 3
   },
   "file_extension": ".py",
   "mimetype": "text/x-python",
   "name": "python",
   "nbconvert_exporter": "python",
   "pygments_lexer": "ipython3",
   "version": "3.12.0"
  }
 },
 "nbformat": 4,
 "nbformat_minor": 5
}
