{
 "cells": [
  {
   "cell_type": "code",
   "execution_count": 2,
   "id": "b8591453-dd5e-44e1-a332-40c57895c2fb",
   "metadata": {},
   "outputs": [],
   "source": [
    "import numpy as np\n",
    "import cv2"
   ]
  },
  {
   "cell_type": "code",
   "execution_count": null,
   "id": "2feb22a3-03b0-43d9-8be6-ebe8d20bbc03",
   "metadata": {},
   "outputs": [],
   "source": []
  },
  {
   "cell_type": "code",
   "execution_count": 3,
   "id": "172c50df-e5ea-4d7c-976a-103a5ff060b1",
   "metadata": {},
   "outputs": [],
   "source": [
    "img= cv2.imread('./m1/car.jpg')"
   ]
  },
  {
   "cell_type": "code",
   "execution_count": 3,
   "id": "2cc79fa1-cde3-46ab-877b-989561b98ade",
   "metadata": {},
   "outputs": [],
   "source": [
    "cv2.imshow('car image', img)\n",
    "cv2.waitKey(0)\n",
    "cv2.destroyAllWindows()"
   ]
  },
  {
   "cell_type": "code",
   "execution_count": 4,
   "id": "dfcf6f72-b314-4d14-aa58-e97afe8b3b5b",
   "metadata": {},
   "outputs": [],
   "source": [
    "#addition"
   ]
  },
  {
   "cell_type": "code",
   "execution_count": 4,
   "id": "556509b3-2f31-4311-8903-6f34288df323",
   "metadata": {},
   "outputs": [],
   "source": [
    "value = np.ones_like(img,dtype='uint8')*50"
   ]
  },
  {
   "cell_type": "code",
   "execution_count": 6,
   "id": "3e15ee0a-8e48-473a-a106-2f248de0c48e",
   "metadata": {},
   "outputs": [],
   "source": [
    "cv2.imshow('value', value)\n",
    "cv2.waitKey(0)\n",
    "cv2.destroyAllWindows()"
   ]
  },
  {
   "cell_type": "code",
   "execution_count": 5,
   "id": "4419676e-41ca-41d8-96a7-648ef6cb83f1",
   "metadata": {},
   "outputs": [],
   "source": [
    "img_add = cv2.add(img,value)"
   ]
  },
  {
   "cell_type": "code",
   "execution_count": 6,
   "id": "7e53c9e7-9d9d-4595-9395-690b12a9ce62",
   "metadata": {},
   "outputs": [],
   "source": [
    "cv2.imshow('original',img)\n",
    "cv2.imshow('addition',img_add)\n",
    "cv2.waitKey(0)\n",
    "cv2.destroyAllWindows()"
   ]
  },
  {
   "cell_type": "code",
   "execution_count": 7,
   "id": "d72cca46-f5b1-4e06-b233-664bc0058356",
   "metadata": {},
   "outputs": [],
   "source": [
    "#substraction\n"
   ]
  },
  {
   "cell_type": "code",
   "execution_count": 9,
   "id": "c349e22c-3caa-4ad7-adf2-b975fca0cff2",
   "metadata": {},
   "outputs": [],
   "source": [
    "value = np.ones_like(img,dtype='uint8')*75"
   ]
  },
  {
   "cell_type": "code",
   "execution_count": 11,
   "id": "1c9c7fbe-2c74-4d93-a9e1-8f1c2ea034a7",
   "metadata": {},
   "outputs": [],
   "source": [
    "img_sub=cv2.subtract(img,value)"
   ]
  },
  {
   "cell_type": "code",
   "execution_count": 13,
   "id": "959c14cd-f45e-48dc-aa97-cec73f80b232",
   "metadata": {},
   "outputs": [],
   "source": [
    "cv2.imshow('original',img)\n",
    "cv2.imshow('substracted',img_sub)\n",
    "cv2.waitKey()\n",
    "cv2.destroyAllWindows()"
   ]
  },
  {
   "cell_type": "code",
   "execution_count": 14,
   "id": "0669489b-1776-4066-8b27-9cb7f78a419d",
   "metadata": {},
   "outputs": [],
   "source": [
    "#blending image"
   ]
  },
  {
   "cell_type": "code",
   "execution_count": 15,
   "id": "da305d3e-d9c5-48da-bf1d-4939474823a5",
   "metadata": {},
   "outputs": [],
   "source": [
    "img1 = cv2.imread('./m1/blend_1.jpg')\n",
    "img2= cv2.imread('./m1/blend_2.jpg')\n"
   ]
  },
  {
   "cell_type": "code",
   "execution_count": 20,
   "id": "831dc493-70d4-4b2e-aa65-c38f5b9eb492",
   "metadata": {},
   "outputs": [],
   "source": [
    "blend = cv2.addWeighted(img1,0.75,img2,0.75,40)"
   ]
  },
  {
   "cell_type": "code",
   "execution_count": null,
   "id": "88b6032b-0367-4181-ae1e-23d81df4306c",
   "metadata": {},
   "outputs": [],
   "source": []
  },
  {
   "cell_type": "code",
   "execution_count": null,
   "id": "415b8316-1ab8-4995-95ce-2c834a376361",
   "metadata": {},
   "outputs": [],
   "source": []
  },
  {
   "cell_type": "code",
   "execution_count": 21,
   "id": "0aa96590-8b95-4614-9f28-115174f6bdcd",
   "metadata": {},
   "outputs": [],
   "source": [
    "cv2.imshow('blend image',blend)\n",
    "cv2.waitKey(0)\n",
    "cv2.destroyAllWindows()"
   ]
  },
  {
   "cell_type": "code",
   "execution_count": null,
   "id": "459d395a-bc38-4303-9224-6042a2dbea4a",
   "metadata": {},
   "outputs": [],
   "source": []
  },
  {
   "cell_type": "code",
   "execution_count": null,
   "id": "b1ccb268-4486-41ef-b3b0-df6c65075738",
   "metadata": {},
   "outputs": [],
   "source": []
  },
  {
   "cell_type": "code",
   "execution_count": null,
   "id": "e861d36d-b017-4387-a4c8-55bbc206bd6b",
   "metadata": {},
   "outputs": [],
   "source": []
  },
  {
   "cell_type": "code",
   "execution_count": null,
   "id": "e0194b5e-4637-439e-83d5-70125f9ba56b",
   "metadata": {},
   "outputs": [],
   "source": []
  },
  {
   "cell_type": "code",
   "execution_count": null,
   "id": "c9e56f04-2048-4a64-8fb7-80ed7bbf3899",
   "metadata": {},
   "outputs": [],
   "source": []
  },
  {
   "cell_type": "code",
   "execution_count": null,
   "id": "8d0f5d2b-27d2-4d91-bba9-a3025074bcdf",
   "metadata": {},
   "outputs": [],
   "source": []
  },
  {
   "cell_type": "code",
   "execution_count": null,
   "id": "a3a387b6-6a7e-4763-94f8-6f399f7fcad7",
   "metadata": {},
   "outputs": [],
   "source": []
  },
  {
   "cell_type": "code",
   "execution_count": null,
   "id": "d313c9ac-7b4c-4fca-9791-5c6a3c7bc584",
   "metadata": {},
   "outputs": [],
   "source": []
  },
  {
   "cell_type": "code",
   "execution_count": null,
   "id": "ad61b773-864f-49ed-9beb-4197f3dd34ea",
   "metadata": {},
   "outputs": [],
   "source": []
  },
  {
   "cell_type": "code",
   "execution_count": null,
   "id": "0237f358-12ec-4094-81bf-b634860f1e98",
   "metadata": {},
   "outputs": [],
   "source": []
  }
 ],
 "metadata": {
  "kernelspec": {
   "display_name": "Python 3 (ipykernel)",
   "language": "python",
   "name": "python3"
  },
  "language_info": {
   "codemirror_mode": {
    "name": "ipython",
    "version": 3
   },
   "file_extension": ".py",
   "mimetype": "text/x-python",
   "name": "python",
   "nbconvert_exporter": "python",
   "pygments_lexer": "ipython3",
   "version": "3.12.0"
  }
 },
 "nbformat": 4,
 "nbformat_minor": 5
}
