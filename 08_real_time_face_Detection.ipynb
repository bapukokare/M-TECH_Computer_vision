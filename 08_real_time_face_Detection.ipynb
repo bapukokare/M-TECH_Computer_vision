{
 "cells": [
  {
   "cell_type": "code",
   "execution_count": 3,
   "id": "f4f8694d-9600-4603-a7f8-84e5ca07ce0f",
   "metadata": {},
   "outputs": [],
   "source": [
    "import cv2\n",
    "import numpy as np"
   ]
  },
  {
   "cell_type": "code",
   "execution_count": 2,
   "id": "3ca22a7c-0e81-4690-a92f-6e85d23fe206",
   "metadata": {},
   "outputs": [],
   "source": [
    "#write funcation face detection\n",
    "\n",
    "def face_detection(img):\n",
    "    image= img.copy()\n",
    "    #step1: convert image to gray scale\n",
    "    gray= cv2.cvtColor(img,cv2.COLOR_BGR2GRAY)\n",
    "    # step2: load model \n",
    "    face_cascade = cv2.CascadeClassifier('./model/haarcascade_frontalface_default.xml')\n",
    "    #step2: Apply gray scale image to cascade classifier\n",
    "    boxes,detections= face_cascade.detectMultiScale2(gray,minNeighbors=8)\n",
    "\n",
    "    for x,y,w,h in boxes: \n",
    "        cv2.rectangle(image,(x,y),(x+w,y+h),(0,255,0),1)\n",
    "    return image\n"
   ]
  },
  {
   "cell_type": "code",
   "execution_count": 4,
   "id": "1f6a992d-32ca-4504-82f6-21c7b06c5cb7",
   "metadata": {},
   "outputs": [],
   "source": [
    "cap = cv2.VideoCapture(0)\n",
    "face_cascade = cv2.CascadeClassifier('./model/haarcascade_frontalface_default.xml')\n",
    "\n",
    "while True : \n",
    "    ret, frame= cap.read()\n",
    "    if ret == False:\n",
    "        break\n",
    "    image_detect = face_detection(frame)\n",
    "    cv2.imshow('Real time face detection', image_detect)\n",
    "    if cv2.waitKey(1) == ord('a'):\n",
    "        break\n",
    "\n",
    "cap.release()\n",
    "cv2.destroyAllWindows()\n",
    "\n",
    "    \n",
    "        "
   ]
  },
  {
   "cell_type": "code",
   "execution_count": null,
   "id": "bedd917e-da42-4505-ba74-695714a3cd14",
   "metadata": {},
   "outputs": [],
   "source": [
    "a"
   ]
  }
 ],
 "metadata": {
  "kernelspec": {
   "display_name": "Python 3 (ipykernel)",
   "language": "python",
   "name": "python3"
  },
  "language_info": {
   "codemirror_mode": {
    "name": "ipython",
    "version": 3
   },
   "file_extension": ".py",
   "mimetype": "text/x-python",
   "name": "python",
   "nbconvert_exporter": "python",
   "pygments_lexer": "ipython3",
   "version": "3.12.0"
  }
 },
 "nbformat": 4,
 "nbformat_minor": 5
}
